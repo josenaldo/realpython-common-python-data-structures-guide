{
 "cells": [
  {
   "cell_type": "markdown",
   "metadata": {},
   "source": [
    "# Common Python Data Structures (Guide)\n",
    "\n",
    "[https://realpython.com/python-data-structures/](https://realpython.com/python-data-structures/)"
   ]
  },
  {
   "cell_type": "markdown",
   "metadata": {},
   "source": [
    "Neste tutorial, você aprenderá:\n",
    "\n",
    "- Quais tipos de dados abstratos comuns são integrados à biblioteca padrão do Python\n",
    "- Como os tipos de dados abstratos mais comuns são mapeados para o esquema de nomenclatura do Python\n",
    "- Como colocar tipos de dados abstratos em uso prático em vários algoritmos"
   ]
  },
  {
   "cell_type": "markdown",
   "metadata": {},
   "source": [
    "## Registros, Estuturas e Objetos de Transferência de Dados"
   ]
  },
  {
   "cell_type": "markdown",
   "metadata": {},
   "source": [
    "Em comparação com os arrays, as estruturas de dados de registro (*record*) fornecem um número fixo de campos. Cada campo pode ter um nome e também pode ter um tipo diferente.\n",
    "\n",
    "Nesta seção, você verá como implementar registros, estruturas(*struct*) e objetos de dados comuns no Python, usando apenas tipos de dados built-in e classes da biblioteca padrão.\n",
    "\n",
    "\n",
    "> Nota: Aqui, vamos usar uma definição vaga de registro. Por exemplo, também\n",
    "> vamos discutir tipos built-in como a tupla, que pode ou não ser considerada\n",
    "> registros em um sentido estrito, já que não fornecem campos nomeados.\n",
    "\n",
    "O Python oferece vários tipos de dados que você pode usar para implementar registros, estruturas e objetos de transferência de dados (*data transfer objects*). Nesta seção, você dará uma rápida olhada em cada implementação e suas características únicas. No final, você encontrará um resumo e um guia de decisão que ajudará você a fazer suas próprias escolhas."
   ]
  },
  {
   "cell_type": "markdown",
   "metadata": {},
   "source": [
    "### `dict`: Simple Data Objects"
   ]
  },
  {
   "cell_type": "markdown",
   "metadata": {},
   "source": [
    "Como mencionado anteriormente, os dicionários do Python armazenam um número arbitrário de objetos, cada um identificado por uma chave exclusiva. Os dicionários também são frequentemente chamados de mapas ou matrizes associativas e permitem a pesquisa, a inserção e a exclusão eficientes de qualquer objeto associado a uma determinada chave.\n",
    "\n",
    "Em Python, é possível usar dicionários como registro ou objeto de dados. Os dicionários são fáceis de criar, pois eles têm seu próprio açúcar sintático embutido na linguagem sob a forma de literais de dicionário. A sintaxe do dicionário é concisa e bastante conveniente para digitar.\n",
    "\n",
    "Os objetos de dados criados usando dicionários são mutáveis, e há pouca proteção contra nomes de campo com erros de digitação, assim como campos podem ser adicionados e removidos livremente a qualquer momento. Ambas as propriedades podem introduzir bugs surpreendentes, e há sempre uma trade-off a ser feita entre conveniência e resiliência a erro."
   ]
  },
  {
   "cell_type": "code",
   "execution_count": 1,
   "metadata": {},
   "outputs": [],
   "source": [
    "car1 = {\n",
    "    \"color\": \"red\",\n",
    "    \"mileage\": 3812.4,\n",
    "    \"automatic\": True,\n",
    "}\n",
    "\n",
    "car2 = {\n",
    "    \"color\": \"blue\",\n",
    "    \"mileage\": 40231,\n",
    "    \"automatic\": False,\n",
    "}"
   ]
  },
  {
   "cell_type": "code",
   "execution_count": 2,
   "metadata": {},
   "outputs": [
    {
     "data": {
      "text/plain": [
       "{'color': 'blue', 'mileage': 40231, 'automatic': False}"
      ]
     },
     "execution_count": 2,
     "metadata": {},
     "output_type": "execute_result"
    }
   ],
   "source": [
    "# car2.__repr__()\n",
    "car2"
   ]
  },
  {
   "cell_type": "code",
   "execution_count": 3,
   "metadata": {},
   "outputs": [
    {
     "data": {
      "text/plain": [
       "40231"
      ]
     },
     "execution_count": 3,
     "metadata": {},
     "output_type": "execute_result"
    }
   ],
   "source": [
    "# Get mileage\n",
    "car2[\"mileage\"]"
   ]
  },
  {
   "cell_type": "code",
   "execution_count": 4,
   "metadata": {},
   "outputs": [
    {
     "data": {
      "text/plain": [
       "{'color': 'blue', 'mileage': 12, 'automatic': False, 'windshield': 'broken'}"
      ]
     },
     "execution_count": 4,
     "metadata": {},
     "output_type": "execute_result"
    }
   ],
   "source": [
    "# Dicts são mutáveis\n",
    "car2[\"mileage\"] = 12\n",
    "car2[\"windshield\"] = \"broken\"\n",
    "car2"
   ]
  },
  {
   "cell_type": "code",
   "execution_count": 5,
   "metadata": {},
   "outputs": [
    {
     "data": {
      "text/plain": [
       "{'colr': 'green', 'automatic': False, 'windshield': 'broken'}"
      ]
     },
     "execution_count": 5,
     "metadata": {},
     "output_type": "execute_result"
    }
   ],
   "source": [
    "# Nenhuma proteção contra nomes de campo errados, campos ausentes ou\n",
    "# campos extras\n",
    "car3 = {\n",
    "    \"colr\": \"green\",\n",
    "    \"automatic\": False,\n",
    "    \"windshield\": \"broken\",\n",
    "}\n",
    "car3"
   ]
  },
  {
   "cell_type": "markdown",
   "metadata": {},
   "source": [
    "### `tuple`: Grupo de Objetos Imutáveis"
   ]
  },
  {
   "cell_type": "markdown",
   "metadata": {},
   "source": [
    "As tuplas do Python são uma estrutura de dados simples para agrupar objetos arbitrários. Tuplas são imutáveis - elas não podem ser modificadas depois de criadas.\n",
    "\n",
    "Sob o ponto de vista da performance, tuplas ocupam um pouco menos memória do que as listas em CPython, e eles também são mais rápidos para construir.\n",
    "\n",
    "Como você pode ver na desmontagem abaixo, construir uma tupla leva a um único opcode LOAD_CONST, enquanto a construção de um objeto de lista com o mesmo conteúdo requer várias mais operações."
   ]
  },
  {
   "cell_type": "code",
   "execution_count": 6,
   "metadata": {},
   "outputs": [
    {
     "name": "stdout",
     "output_type": "stream",
     "text": [
      "  1           0 LOAD_CONST               0 ((23, 'a', 'b', 'c'))\n",
      "              2 RETURN_VALUE\n"
     ]
    }
   ],
   "source": [
    "import dis  # noqa E402\n",
    "\n",
    "dis.dis(compile(\"(23, 'a', 'b', 'c')\", \"\", \"eval\"))"
   ]
  },
  {
   "cell_type": "code",
   "execution_count": 7,
   "metadata": {},
   "outputs": [
    {
     "name": "stdout",
     "output_type": "stream",
     "text": [
      "  1           0 BUILD_LIST               0\n",
      "              2 LOAD_CONST               0 ((23, 'a', 'b', 'c'))\n",
      "              4 LIST_EXTEND              1\n",
      "              6 RETURN_VALUE\n"
     ]
    }
   ],
   "source": [
    "dis.dis(compile(\"[23, 'a', 'b', 'c']\", \"\", \"eval\"))"
   ]
  },
  {
   "cell_type": "markdown",
   "metadata": {},
   "source": [
    "No entanto, você não deve colocar muita ênfase nessas diferenças. Na prática, a diferença de desempenho, na maioria das vezes, será insignificante. Tentar  espremer desempenho extra, de um programa, alternando as listas para tuplas, provavelmente será uma abordagem equivocada.\n",
    "\n",
    "Uma possível desvantagem de tuplas simples é que os dados que você armazenam neles só podem ser retirados, acessando-o através de índices inteiros. Você não pode dar nomes para propriedades individuais armazenadas em uma tupla. Isso pode impactar a legibilidade de código.\n",
    "\n",
    "Além disso, uma tupla é sempre uma estrutura ad-hoc: é difícil garantir que duas tuplas tenham o mesmo número de campos e as mesmas propriedades armazenadas nelas.\n",
    "\n",
    "Isso facilita a introdução de bugs difíceis de perceber, como misturar a ordem de campo. Portanto, eu recomendaria que você mantenha o número de campos armazenados em uma tupla o mais baixo possível."
   ]
  },
  {
   "cell_type": "code",
   "execution_count": 8,
   "metadata": {},
   "outputs": [],
   "source": [
    "# Campos: color, mileage, automatic\n",
    "car1 = (\"red\", 3812.4, True)\n",
    "car2 = (\"blue\", 40231.0, False)"
   ]
  },
  {
   "cell_type": "code",
   "execution_count": 9,
   "metadata": {},
   "outputs": [
    {
     "data": {
      "text/plain": [
       "('red', 3812.4, True)"
      ]
     },
     "execution_count": 9,
     "metadata": {},
     "output_type": "execute_result"
    }
   ],
   "source": [
    "# car1.__repr__()\n",
    "car1"
   ]
  },
  {
   "cell_type": "code",
   "execution_count": 10,
   "metadata": {},
   "outputs": [
    {
     "data": {
      "text/plain": [
       "('blue', 40231.0, False)"
      ]
     },
     "execution_count": 10,
     "metadata": {},
     "output_type": "execute_result"
    }
   ],
   "source": [
    "# car2.__repr__()\n",
    "car2"
   ]
  },
  {
   "cell_type": "code",
   "execution_count": 11,
   "metadata": {},
   "outputs": [
    {
     "name": "stderr",
     "output_type": "stream",
     "text": [
      "Traceback (most recent call last):\n",
      "  File \"C:\\Users\\josen\\AppData\\Local\\Temp/ipykernel_71220/2323499011.py\", line 5, in <module>\n",
      "    car2[1] = 12\n",
      "TypeError: 'tuple' object does not support item assignment\n"
     ]
    }
   ],
   "source": [
    "import traceback  # noqa E402\n",
    "\n",
    "try:\n",
    "    # Tuplas são imutáveis\n",
    "    car2[1] = 12\n",
    "except TypeError:\n",
    "    traceback.print_exc()"
   ]
  },
  {
   "cell_type": "code",
   "execution_count": 12,
   "metadata": {},
   "outputs": [
    {
     "data": {
      "text/plain": [
       "(3431.5, 'green', True, 'silver')"
      ]
     },
     "execution_count": 12,
     "metadata": {},
     "output_type": "execute_result"
    }
   ],
   "source": [
    "# Nenhuma proteção contra nomes de campo errados, campos ausentes ou\n",
    "# campos extras\n",
    "car3 = (3431.5, \"green\", True, \"silver\")\n",
    "car3"
   ]
  },
  {
   "cell_type": "markdown",
   "metadata": {},
   "source": [
    "### Escreva uma classe personalizada: mais trabalho, mais controle"
   ]
  },
  {
   "cell_type": "markdown",
   "metadata": {},
   "source": [
    "Uma classe permite que você defina um modelo reutilizável para objetos de dados, para garantir que cada objeto forneça o mesmo conjunto de campos.\n",
    "\n",
    "Usar classes regulares como tipos de dados registro é viável, mas também é necessário trabalho manual para obter as conveniências de outras implementações.Por exemplo, adicionar novos campos ao construtor `__init__` é verboso e leva tempo.\n",
    "\n",
    "Além disso, a representação padrão de string para objetos instanciados a partir de classes personalizadas não é muito útil. Para corrigir isso, você pode ter que adicionar seu próprio método `__repr__` que, geralmente, é bastante detalhado e deve ser atualizado toda vez que você adicionar um novo campo.\n",
    "\n",
    "Os campos das classes são mutáveis e novos campos podem ser adicionados livremente, quer você goste ou não. É possível ter mais controle de acesso e criar campos somente leitura usando o decorador `@property` mas, mais uma vez, isso requer escrever mais código de cola.\n",
    "\n",
    "Escrever uma classe personalizada é uma ótima opção sempre que você quiser  adicionar lógica e comportamento de negócios aos seus objetos de registro usando métodos. No entanto, isso significa que esses objetos não são mais, tecnicamente, objetos de dados simples."
   ]
  },
  {
   "cell_type": "code",
   "execution_count": 13,
   "metadata": {},
   "outputs": [],
   "source": [
    "class Car:\n",
    "    def __init__(self, color, mileage, automatic):\n",
    "        self.color = color\n",
    "        self.mileage = mileage\n",
    "        self.automatic = automatic\n",
    "\n",
    "\n",
    "car1 = Car(\"red\", 3812.4, True)\n",
    "car2 = Car(\"blue\", 40231.0, False)"
   ]
  },
  {
   "cell_type": "code",
   "execution_count": 14,
   "metadata": {},
   "outputs": [
    {
     "data": {
      "text/plain": [
       "40231.0"
      ]
     },
     "execution_count": 14,
     "metadata": {},
     "output_type": "execute_result"
    }
   ],
   "source": [
    "# Obtendo a propriedade mileage\n",
    "car2.mileage"
   ]
  },
  {
   "cell_type": "code",
   "execution_count": 15,
   "metadata": {},
   "outputs": [],
   "source": [
    "# Classes são mutáveis\n",
    "car2.mileage = 12\n",
    "car2.windshield = \"broken\""
   ]
  },
  {
   "cell_type": "code",
   "execution_count": 16,
   "metadata": {},
   "outputs": [
    {
     "data": {
      "text/plain": [
       "<__main__.Car at 0x25895c4d1f0>"
      ]
     },
     "execution_count": 16,
     "metadata": {},
     "output_type": "execute_result"
    }
   ],
   "source": [
    "# A representação de string não é muito útil\n",
    "# (o método __repr__ deve ser sobreescrito manualmente):\n",
    "car2"
   ]
  },
  {
   "cell_type": "code",
   "execution_count": 17,
   "metadata": {},
   "outputs": [
    {
     "data": {
      "text/plain": [
       "Car(blue, 12, False)"
      ]
     },
     "execution_count": 17,
     "metadata": {},
     "output_type": "execute_result"
    }
   ],
   "source": [
    "def repr(self):\n",
    "    return f\"Car({self.color}, {self.mileage}, {self.automatic})\"\n",
    "\n",
    "\n",
    "Car.__repr__ = repr\n",
    "\n",
    "car2"
   ]
  },
  {
   "cell_type": "markdown",
   "metadata": {},
   "source": [
    "### `dataclasses.dataclass`: Python 3.7+ Data Classes"
   ]
  },
  {
   "cell_type": "markdown",
   "metadata": {},
   "source": [
    "Data classes estão disponíveis a partir do Python 3.7. Elas fornecem uma excelente alternativa para definir suas próprias classes de armazenamento de dados do zero.\n",
    "\n",
    "Ao escrever uma data class, em vez de uma classe Python normal, suas instâncias de objeto obtêm alguns recursos úteis por padrão, que economizarão algum trabalho de digitação e implementação manual\n",
    "\n",
    "- A sintaxe para definir variáveis de instância é mais curta, já que você não precisa implementar o método `.__init__ ()`.\n",
    "- As instâncias de sua classe de dados obtêm, automaticamente, uma representação de string útil, por meio de um método `.__repr__()` gerado automaticamente.\n",
    "- As variáveis de instância aceitam anotações de tipo, fazendo ocm que a classe tenha um certo grau de auto-documentação. Tenha em mente que anotações de tipo são apenas sugestões, que não são aplicadas sem uma ferramenta de verificação de tipo separada.\n",
    "\n",
    "As data class são criadas usando o decorador `@dataclass`, como você verá no exemplo abaixo:"
   ]
  },
  {
   "cell_type": "code",
   "execution_count": 18,
   "metadata": {},
   "outputs": [],
   "source": [
    "from dataclasses import dataclass  # noqa E402\n",
    "\n",
    "\n",
    "@dataclass\n",
    "class Car:\n",
    "    color: str\n",
    "    mileage: float\n",
    "    automatic: bool\n",
    "\n",
    "\n",
    "car1 = Car(\"red\", 3812.4, True)"
   ]
  },
  {
   "cell_type": "code",
   "execution_count": 19,
   "metadata": {},
   "outputs": [
    {
     "data": {
      "text/plain": [
       "Car(color='red', mileage=3812.4, automatic=True)"
      ]
     },
     "execution_count": 19,
     "metadata": {},
     "output_type": "execute_result"
    }
   ],
   "source": [
    "# car1.__repr__()\n",
    "car1"
   ]
  },
  {
   "cell_type": "code",
   "execution_count": 20,
   "metadata": {},
   "outputs": [
    {
     "data": {
      "text/plain": [
       "3812.4"
      ]
     },
     "execution_count": 20,
     "metadata": {},
     "output_type": "execute_result"
    }
   ],
   "source": [
    "# Acessando campos\n",
    "car1.mileage"
   ]
  },
  {
   "cell_type": "code",
   "execution_count": 21,
   "metadata": {},
   "outputs": [],
   "source": [
    "# Campos são mutáveis\n",
    "car1.mileage = 12\n",
    "car1.windshield = \"broken\""
   ]
  },
  {
   "cell_type": "code",
   "execution_count": 22,
   "metadata": {},
   "outputs": [
    {
     "data": {
      "text/plain": [
       "Car(color='red', mileage='NOT_A_FLOAT', automatic=99)"
      ]
     },
     "execution_count": 22,
     "metadata": {},
     "output_type": "execute_result"
    }
   ],
   "source": [
    "# Anotações de tipo não são verificadas sem uma ferramenta de verificação de\n",
    "# tipo, como o mypy\n",
    "Car(\"red\", \"NOT_A_FLOAT\", 99)"
   ]
  },
  {
   "cell_type": "markdown",
   "metadata": {},
   "source": [
    "### `collections.namedtuple`: Objetos de dados convenientes"
   ]
  },
  {
   "cell_type": "markdown",
   "metadata": {},
   "source": [
    "A classe `namedtuple`. disponível a partir do Python 2.6, fornece uma extensão da classe built-in `tuple`. Similar a definir uma classe customizada, usar a `namedtuple` permite que defina um modelo reutilizável para seus registros, garantindo que os nomes de campos certos sejam utilizados.\n",
    "\n",
    "Objetos `namedtuple` são imutáveis, da mesma forma que as tuplas normais. Isso significa que você não pode adicionar novos campos, ou modificar campos existentes depois que a instância da Tupla é criada.\n",
    "\n",
    "Portanto, objetos `namedtuple`, como o próprio nome já diz, são tuplas **nomeadas**, ou seja, você não está preso a índices numéricos, nem precisa de gambiarras, como definir constantes inteiras pra usar como mnemônicos para os índices.\n",
    "\n",
    "**Atenção:**\n",
    "\n",
    "> Objetos `namedtuple` são implementados como objetos Python normais,\n",
    "> internamente. POrém, quando comparados a objetos normais, em relação ao\n",
    "> consumo de memória, eles são melhores que classes normais, sendo tão\n",
    "> eficientes quanto tuplas normais.\n",
    "\n",
    "***O texto diz isso mas, como podemos ver pelo resultado abaixo, é melhor analisar cada caso.***"
   ]
  },
  {
   "cell_type": "code",
   "execution_count": 23,
   "metadata": {},
   "outputs": [
    {
     "name": "stdout",
     "output_type": "stream",
     "text": [
      "64\n",
      "64\n",
      "48\n"
     ]
    }
   ],
   "source": [
    "from collections import namedtuple  # noqa E402\n",
    "from sys import getsizeof  # noqa E402\n",
    "\n",
    "\n",
    "class PointClass:\n",
    "    def __init__(self, x, y, z):\n",
    "        self.x = x\n",
    "        self.y = y\n",
    "        self.z = z\n",
    "\n",
    "    def __repr__(self):\n",
    "        return f\"PointClass({self.x}, {self.y}, {self.z})\"\n",
    "\n",
    "\n",
    "p1 = namedtuple(\"Point\", \"x y z\")(1, 2, 3)\n",
    "p2 = (1, 2, 3)\n",
    "p3 = PointClass(1, 2, 3)\n",
    "\n",
    "print(getsizeof(p1))\n",
    "print(getsizeof(p2))\n",
    "print(getsizeof(p3))"
   ]
  },
  {
   "cell_type": "code",
   "execution_count": 24,
   "metadata": {},
   "outputs": [
    {
     "data": {
      "text/plain": [
       "Point(x=1, y=2, z=3)"
      ]
     },
     "execution_count": 24,
     "metadata": {},
     "output_type": "execute_result"
    }
   ],
   "source": [
    "p1"
   ]
  },
  {
   "cell_type": "code",
   "execution_count": 25,
   "metadata": {},
   "outputs": [
    {
     "data": {
      "text/plain": [
       "(1, 2, 3)"
      ]
     },
     "execution_count": 25,
     "metadata": {},
     "output_type": "execute_result"
    }
   ],
   "source": [
    "p2"
   ]
  },
  {
   "cell_type": "code",
   "execution_count": 26,
   "metadata": {},
   "outputs": [
    {
     "data": {
      "text/plain": [
       "PointClass(1, 2, 3)"
      ]
     },
     "execution_count": 26,
     "metadata": {},
     "output_type": "execute_result"
    }
   ],
   "source": [
    "p3"
   ]
  },
  {
   "cell_type": "markdown",
   "metadata": {},
   "source": [
    "\n",
    "Mudar de esturuturas de dados ad-hoc, como dicionários e tuplas normais, para `namedtuples` ajuda o desenvolvedor a comunicar melhor suas intenções, tornando o código mais legível, simples e compreensível, além de fornecer uma estrutura de dados mais robusta e segura. Isso também facilita o trabalho em equipe, visto que o código se torna, até certo ponto, autodocumentado."
   ]
  },
  {
   "cell_type": "code",
   "execution_count": 27,
   "metadata": {},
   "outputs": [],
   "source": [
    "from typing import NamedTuple  # noqa E402\n",
    "\n",
    "\n",
    "class Car(NamedTuple):\n",
    "    color: str\n",
    "    mileage: float\n",
    "    automatic: bool\n",
    "\n",
    "\n",
    "car1 = Car(\"red\", 3812.4, True)"
   ]
  },
  {
   "cell_type": "code",
   "execution_count": 28,
   "metadata": {},
   "outputs": [
    {
     "data": {
      "text/plain": [
       "Car(color='red', mileage=3812.4, automatic=True)"
      ]
     },
     "execution_count": 28,
     "metadata": {},
     "output_type": "execute_result"
    }
   ],
   "source": [
    "# car1.__repr__()\n",
    "car1"
   ]
  },
  {
   "cell_type": "code",
   "execution_count": 29,
   "metadata": {},
   "outputs": [
    {
     "data": {
      "text/plain": [
       "3812.4"
      ]
     },
     "execution_count": 29,
     "metadata": {},
     "output_type": "execute_result"
    }
   ],
   "source": [
    "# Acessando campos\n",
    "car1.mileage"
   ]
  },
  {
   "cell_type": "code",
   "execution_count": 30,
   "metadata": {},
   "outputs": [
    {
     "name": "stderr",
     "output_type": "stream",
     "text": [
      "Traceback (most recent call last):\n",
      "  File \"C:\\Users\\josen\\AppData\\Local\\Temp/ipykernel_71220/3100363015.py\", line 5, in <module>\n",
      "    car1.mileage = 12\n",
      "AttributeError: can't set attribute\n"
     ]
    }
   ],
   "source": [
    "import traceback  # noqa E402\n",
    "\n",
    "try:\n",
    "    # campos são imutáveis\n",
    "    car1.mileage = 12\n",
    "except AttributeError:\n",
    "    traceback.print_exc()"
   ]
  },
  {
   "cell_type": "code",
   "execution_count": 31,
   "metadata": {},
   "outputs": [
    {
     "name": "stderr",
     "output_type": "stream",
     "text": [
      "Traceback (most recent call last):\n",
      "  File \"C:\\Users\\josen\\AppData\\Local\\Temp/ipykernel_71220/3210627203.py\", line 5, in <module>\n",
      "    car1.windshield = \"broken\"\n",
      "AttributeError: 'Car' object has no attribute 'windshield'\n"
     ]
    }
   ],
   "source": [
    "import traceback  # noqa E402\n",
    "\n",
    "try:\n",
    "    # Não é possível adicionar campos\n",
    "    car1.windshield = \"broken\"\n",
    "except AttributeError:\n",
    "    traceback.print_exc()"
   ]
  },
  {
   "cell_type": "code",
   "execution_count": 32,
   "metadata": {},
   "outputs": [
    {
     "data": {
      "text/plain": [
       "Car(color='red', mileage='NOT_A_FLOAT', automatic=99)"
      ]
     },
     "execution_count": 32,
     "metadata": {},
     "output_type": "execute_result"
    }
   ],
   "source": [
    "# Anotações de tipo não são verificadas sem uma ferramenta de verificação de\n",
    "# tipo, como o mypy\n",
    "Car(\"red\", \"NOT_A_FLOAT\", 99)"
   ]
  },
  {
   "cell_type": "markdown",
   "metadata": {},
   "source": [
    "### `struct.Struct`: Structs C Serializados"
   ]
  },
  {
   "cell_type": "markdown",
   "metadata": {},
   "source": [
    "A classe `struct.Struct` converte valores Python e structs C serializadas em objetos Python. POr exemplo, ela pode ser usada para manipular dados minários armazenados em arquivos ou recebidos pela rede.\n",
    "\n",
    "As structs são definidas usando uma mini linguagem, com base em strings de formato, que permite definir o arranjo de vários tipos de dados C como char, int e longos, assim como suas variantes não sinalizadas.\n",
    "\n",
    "Structs serializados raramente são usados para representar objetos de dados destinados a serem tratados apenas dentro do código Python. Eles são destinados principalmente como um formato de troca de dados, em vez de como uma maneira de manter dados na memória que é usada apenas pelo código Python.\n",
    "\n",
    "Em alguns casos, enpacotar dados primitivos em struct pode usar menos memória do que mantê-lo em outros tipos de dados. No entanto, na maioria dos casos, seria uma otimização bastante avançada (e provavelmente desnecessária):"
   ]
  },
  {
   "cell_type": "code",
   "execution_count": 33,
   "metadata": {},
   "outputs": [],
   "source": [
    "from struct import Struct  # noqa E402\n",
    "\n",
    "\n",
    "MyStruct = Struct(\"i?f\")\n",
    "data = MyStruct.pack(23, False, 42.0)"
   ]
  },
  {
   "cell_type": "code",
   "execution_count": 34,
   "metadata": {},
   "outputs": [
    {
     "data": {
      "text/plain": [
       "b'\\x17\\x00\\x00\\x00\\x00\\x00\\x00\\x00\\x00\\x00(B'"
      ]
     },
     "execution_count": 34,
     "metadata": {},
     "output_type": "execute_result"
    }
   ],
   "source": [
    "# Tudo o que você recebe é um blob de dados:\n",
    "data"
   ]
  },
  {
   "cell_type": "code",
   "execution_count": 35,
   "metadata": {},
   "outputs": [
    {
     "data": {
      "text/plain": [
       "(23, False, 42.0)"
      ]
     },
     "execution_count": 35,
     "metadata": {},
     "output_type": "execute_result"
    }
   ],
   "source": [
    "# Blobs de dados podem ser descompactados novamente:\n",
    "MyStruct.unpack(data)"
   ]
  },
  {
   "cell_type": "code",
   "execution_count": null,
   "metadata": {},
   "outputs": [],
   "source": []
  }
 ],
 "metadata": {
  "interpreter": {
   "hash": "8ae6e8347844ce31cefbfab1c46c85d6003d3a1108122483edd0f60efc9feef7"
  },
  "kernelspec": {
   "display_name": "Python 3.9.7 64-bit (conda)",
   "language": "python",
   "name": "python3"
  },
  "language_info": {
   "codemirror_mode": {
    "name": "ipython",
    "version": 3
   },
   "file_extension": ".py",
   "mimetype": "text/x-python",
   "name": "python",
   "nbconvert_exporter": "python",
   "pygments_lexer": "ipython3",
   "version": "3.9.7"
  },
  "orig_nbformat": 4
 },
 "nbformat": 4,
 "nbformat_minor": 2
}
