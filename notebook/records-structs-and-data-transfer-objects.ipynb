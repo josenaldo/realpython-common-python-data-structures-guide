{
 "cells": [
  {
   "cell_type": "markdown",
   "metadata": {},
   "source": [
    "# Common Python Data Structures (Guide)\n",
    "\n",
    "[https://realpython.com/python-data-structures/](https://realpython.com/python-data-structures/)"
   ]
  },
  {
   "cell_type": "markdown",
   "metadata": {},
   "source": [
    "Neste tutorial, você aprenderá:\n",
    "\n",
    "- Quais tipos de dados abstratos comuns são integrados à biblioteca padrão do Python\n",
    "- Como os tipos de dados abstratos mais comuns são mapeados para o esquema de nomenclatura do Python\n",
    "- Como colocar tipos de dados abstratos em uso prático em vários algoritmos"
   ]
  },
  {
   "cell_type": "markdown",
   "metadata": {},
   "source": [
    "## Registros, Estuturas e Objetos de Transferência de Dados"
   ]
  },
  {
   "cell_type": "markdown",
   "metadata": {},
   "source": [
    "Em comparação com os arrays, as estruturas de dados de registro (*record*) fornecem um número fixo de campos. Cada campo pode ter um nome e também pode ter um tipo diferente.\n",
    "\n",
    "Nesta seção, você verá como implementar registros, estruturas(*struct*) e objetos de dados comuns no Python, usando apenas tipos de dados built-in e classes da biblioteca padrão.\n",
    "\n",
    "\n",
    "> Nota: Aqui, vamos usar uma definição vaga de registro. Por exemplo, também\n",
    "> vamos discutir tipos built-in como a tupla, que pode ou não ser considerada\n",
    "> registros em um sentido estrito, já que não fornecem campos nomeados.\n",
    "\n",
    "O Python oferece vários tipos de dados que você pode usar para implementar registros, estruturas e objetos de transferência de dados (*data transfer objects*). Nesta seção, você dará uma rápida olhada em cada implementação e suas características únicas. No final, você encontrará um resumo e um guia de decisão que ajudará você a fazer suas próprias escolhas."
   ]
  },
  {
   "cell_type": "markdown",
   "metadata": {},
   "source": [
    "### dict: Simple Data Objects"
   ]
  },
  {
   "cell_type": "markdown",
   "metadata": {},
   "source": [
    "Como mencionado anteriormente, os dicionários do Python armazenam um número arbitrário de objetos, cada um identificado por uma chave exclusiva. Os dicionários também são frequentemente chamados de mapas ou matrizes associativas e permitem a pesquisa, a inserção e a exclusão eficientes de qualquer objeto associado a uma determinada chave.\n",
    "\n",
    "Em Python, é possível usar dicionários como registro ou objeto de dados. Os dicionários são fáceis de criar, pois eles têm seu próprio açúcar sintático embutido na linguagem sob a forma de literais de dicionário. A sintaxe do dicionário é concisa e bastante conveniente para digitar.\n",
    "\n",
    "Os objetos de dados criados usando dicionários são mutáveis, e há pouca proteção contra nomes de campo com erros de digitação, assim como campos podem ser adicionados e removidos livremente a qualquer momento. Ambas as propriedades podem introduzir bugs surpreendentes, e há sempre uma trade-off a ser feita entre conveniência e resiliência a erro."
   ]
  },
  {
   "cell_type": "code",
   "execution_count": 1,
   "metadata": {},
   "outputs": [],
   "source": [
    "car1 = {\n",
    "    \"color\": \"red\",\n",
    "    \"mileage\": 3812.4,\n",
    "    \"automatic\": True,\n",
    "}\n",
    "\n",
    "car2 = {\n",
    "    \"color\": \"blue\",\n",
    "    \"mileage\": 40231,\n",
    "    \"automatic\": False,\n",
    "}"
   ]
  },
  {
   "cell_type": "code",
   "execution_count": 4,
   "metadata": {},
   "outputs": [
    {
     "data": {
      "text/plain": [
       "{'color': 'blue', 'mileage': 40231, 'automatic': False}"
      ]
     },
     "execution_count": 4,
     "metadata": {},
     "output_type": "execute_result"
    }
   ],
   "source": [
    "# car2.__repr__()\n",
    "car2"
   ]
  },
  {
   "cell_type": "code",
   "execution_count": 3,
   "metadata": {},
   "outputs": [
    {
     "data": {
      "text/plain": [
       "40231"
      ]
     },
     "execution_count": 3,
     "metadata": {},
     "output_type": "execute_result"
    }
   ],
   "source": [
    "# Get mileage\n",
    "car2[\"mileage\"]"
   ]
  },
  {
   "cell_type": "code",
   "execution_count": 5,
   "metadata": {},
   "outputs": [
    {
     "data": {
      "text/plain": [
       "{'color': 'blue', 'mileage': 12, 'automatic': False, 'windshield': 'broken'}"
      ]
     },
     "execution_count": 5,
     "metadata": {},
     "output_type": "execute_result"
    }
   ],
   "source": [
    "# Dicts são mutáveis\n",
    "car2[\"mileage\"] = 12\n",
    "car2[\"windshield\"] = \"broken\"\n",
    "car2"
   ]
  },
  {
   "cell_type": "code",
   "execution_count": 6,
   "metadata": {},
   "outputs": [
    {
     "data": {
      "text/plain": [
       "{'colr': 'green', 'automatic': False, 'windshield': 'broken'}"
      ]
     },
     "execution_count": 6,
     "metadata": {},
     "output_type": "execute_result"
    }
   ],
   "source": [
    "# Nenhuma proteção contra nomes de campo errados, campos ausentes ou\n",
    "# campos extras\n",
    "car3 = {\n",
    "    \"colr\": \"green\",\n",
    "    \"automatic\": False,\n",
    "    \"windshield\": \"broken\",\n",
    "}\n",
    "car3"
   ]
  },
  {
   "cell_type": "markdown",
   "metadata": {},
   "source": [
    "### tuple: Grupo de Objetos Imutáveis"
   ]
  },
  {
   "cell_type": "markdown",
   "metadata": {},
   "source": [
    "As tuplas do Python são uma estrutura de dados simples para agrupar objetos arbitrários. Tuplas são imutáveis - elas não podem ser modificadas depois de criadas.\n",
    "\n",
    "Sob o ponto de vista da performance, tuplas ocupam um pouco menos memória do que as listas em CPython, e eles também são mais rápidos para construir.\n",
    "\n",
    "Como você pode ver na desmontagem abaixo, construir uma tupla leva a um único opcode LOAD_CONST, enquanto a construção de um objeto de lista com o mesmo conteúdo requer várias mais operações."
   ]
  },
  {
   "cell_type": "code",
   "execution_count": 7,
   "metadata": {},
   "outputs": [
    {
     "name": "stdout",
     "output_type": "stream",
     "text": [
      "  1           0 LOAD_CONST               0 ((23, 'a', 'b', 'c'))\n",
      "              2 RETURN_VALUE\n"
     ]
    }
   ],
   "source": [
    "import dis  # noqa E402\n",
    "\n",
    "dis.dis(compile(\"(23, 'a', 'b', 'c')\", \"\", \"eval\"))"
   ]
  },
  {
   "cell_type": "code",
   "execution_count": 8,
   "metadata": {},
   "outputs": [
    {
     "name": "stdout",
     "output_type": "stream",
     "text": [
      "  1           0 BUILD_LIST               0\n",
      "              2 LOAD_CONST               0 ((23, 'a', 'b', 'c'))\n",
      "              4 LIST_EXTEND              1\n",
      "              6 RETURN_VALUE\n"
     ]
    }
   ],
   "source": [
    "dis.dis(compile(\"[23, 'a', 'b', 'c']\", \"\", \"eval\"))"
   ]
  },
  {
   "cell_type": "markdown",
   "metadata": {},
   "source": [
    "No entanto, você não deve colocar muita ênfase nessas diferenças. Na prática, a diferença de desempenho, na maioria das vezes, será insignificante. Tentar  espremer desempenho extra, de um programa, alternando as listas para tuplas, provavelmente será uma abordagem equivocada.\n",
    "\n",
    "Uma possível desvantagem de tuplas simples é que os dados que você armazenam neles só podem ser retirados, acessando-o através de índices inteiros. Você não pode dar nomes para propriedades individuais armazenadas em uma tupla. Isso pode impactar a legibilidade de código.\n",
    "\n",
    "Além disso, uma tupla é sempre uma estrutura ad-hoc: é difícil garantir que duas tuplas tenham o mesmo número de campos e as mesmas propriedades armazenadas nelas.\n",
    "\n",
    "Isso facilita a introdução de bugs difíceis de perceber, como misturar a ordem de campo. Portanto, eu recomendaria que você mantenha o número de campos armazenados em uma tupla o mais baixo possível."
   ]
  },
  {
   "cell_type": "code",
   "execution_count": 9,
   "metadata": {},
   "outputs": [],
   "source": [
    "# Campos: color, mileage, automatic\n",
    "car1 = (\"red\", 3812.4, True)\n",
    "car2 = (\"blue\", 40231.0, False)"
   ]
  },
  {
   "cell_type": "code",
   "execution_count": 11,
   "metadata": {},
   "outputs": [
    {
     "data": {
      "text/plain": [
       "('red', 3812.4, True)"
      ]
     },
     "execution_count": 11,
     "metadata": {},
     "output_type": "execute_result"
    }
   ],
   "source": [
    "# car1.__repr__()\n",
    "car1"
   ]
  },
  {
   "cell_type": "code",
   "execution_count": 12,
   "metadata": {},
   "outputs": [
    {
     "data": {
      "text/plain": [
       "('blue', 40231.0, False)"
      ]
     },
     "execution_count": 12,
     "metadata": {},
     "output_type": "execute_result"
    }
   ],
   "source": [
    "# car2.__repr__()\n",
    "car2"
   ]
  },
  {
   "cell_type": "code",
   "execution_count": 13,
   "metadata": {},
   "outputs": [
    {
     "name": "stderr",
     "output_type": "stream",
     "text": [
      "Traceback (most recent call last):\n",
      "  File \"C:\\Users\\josen\\AppData\\Local\\Temp/ipykernel_38704/1258160115.py\", line 5, in <module>\n",
      "    car2[1] = 12\n",
      "TypeError: 'tuple' object does not support item assignment\n"
     ]
    }
   ],
   "source": [
    "import traceback  # noqa E402\n",
    "\n",
    "try:\n",
    "    # Tuplas são imutáveis\n",
    "    car2[1] = 12\n",
    "except TypeError:\n",
    "    traceback.print_exc()"
   ]
  },
  {
   "cell_type": "code",
   "execution_count": 15,
   "metadata": {},
   "outputs": [
    {
     "data": {
      "text/plain": [
       "(3431.5, 'green', True, 'silver')"
      ]
     },
     "execution_count": 15,
     "metadata": {},
     "output_type": "execute_result"
    }
   ],
   "source": [
    "# Nenhuma proteção contra nomes de campo errados, campos ausentes ou\n",
    "# campos extras\n",
    "car3 = (3431.5, \"green\", True, \"silver\")\n",
    "car3"
   ]
  },
  {
   "cell_type": "markdown",
   "metadata": {},
   "source": [
    "### Escreva uma classe personalizada: mais trabalho, mais controle"
   ]
  },
  {
   "cell_type": "markdown",
   "metadata": {},
   "source": [
    "Uma classe permite que você defina uma planta reutilizável para objetos de dados, para garantir que cada objeto forneça o mesmo conjunto de campos.\n",
    "\n",
    "Usar classes regulares como tipos de dados registro é viável, mas também é necessário trabalho manual para obter as conveniências de outras implementações.Por exemplo, adicionar novos campos ao construtor `__init__` é verboso e leva tempo.\n",
    "\n",
    "Além disso, a representação padrão de string para objetos instanciados a partir de classes personalizadas não é muito útil. Para corrigir isso, você pode ter que adicionar seu próprio método `__repr__` que, geralmente, é bastante detalhado e deve ser atualizado toda vez que você adicionar um novo campo.\n",
    "\n",
    "Os campos das classes são mutáveis e novos campos podem ser adicionados livremente, quer você goste ou não. É possível ter mais controle de acesso e criar campos somente leitura usando o decorador `@property` mas, mais uma vez, isso requer escrever mais código de cola.\n",
    "\n",
    "Escrever uma classe personalizada é uma ótima opção sempre que você quiser  adicionar lógica e comportamento de negócios aos seus objetos de registro usando métodos. No entanto, isso significa que esses objetos não são mais, tecnicamente, objetos de dados simples."
   ]
  },
  {
   "cell_type": "code",
   "execution_count": 17,
   "metadata": {},
   "outputs": [],
   "source": [
    "class Car:\n",
    "    def __init__(self, color, mileage, automatic):\n",
    "        self.color = color\n",
    "        self.mileage = mileage\n",
    "        self.automatic = automatic\n",
    "\n",
    "\n",
    "car1 = Car(\"red\", 3812.4, True)\n",
    "car2 = Car(\"blue\", 40231.0, False)"
   ]
  },
  {
   "cell_type": "code",
   "execution_count": 19,
   "metadata": {},
   "outputs": [
    {
     "data": {
      "text/plain": [
       "40231.0"
      ]
     },
     "execution_count": 19,
     "metadata": {},
     "output_type": "execute_result"
    }
   ],
   "source": [
    "# Obtendo a propriedade mileage\n",
    "car2.mileage"
   ]
  },
  {
   "cell_type": "code",
   "execution_count": 23,
   "metadata": {},
   "outputs": [],
   "source": [
    "# Classes são mutáveis\n",
    "car2.mileage = 12\n",
    "car2.windshield = \"broken\""
   ]
  },
  {
   "cell_type": "code",
   "execution_count": 27,
   "metadata": {},
   "outputs": [
    {
     "data": {
      "text/plain": [
       "Car(blue, 12, False)"
      ]
     },
     "execution_count": 27,
     "metadata": {},
     "output_type": "execute_result"
    }
   ],
   "source": [
    "# A representação de string não é muito útil\n",
    "# (o método __repr__ deve ser sobreescrito manualmente):\n",
    "car2"
   ]
  },
  {
   "cell_type": "code",
   "execution_count": 29,
   "metadata": {},
   "outputs": [
    {
     "data": {
      "text/plain": [
       "Car(blue, 12, False)"
      ]
     },
     "execution_count": 29,
     "metadata": {},
     "output_type": "execute_result"
    }
   ],
   "source": [
    "def repr(self):\n",
    "    return f\"Car({self.color}, {self.mileage}, {self.automatic})\"\n",
    "\n",
    "\n",
    "Car.__repr__ = repr\n",
    "\n",
    "car2"
   ]
  },
  {
   "cell_type": "code",
   "execution_count": null,
   "metadata": {},
   "outputs": [],
   "source": []
  }
 ],
 "metadata": {
  "interpreter": {
   "hash": "8ae6e8347844ce31cefbfab1c46c85d6003d3a1108122483edd0f60efc9feef7"
  },
  "kernelspec": {
   "display_name": "Python 3.9.7 64-bit (conda)",
   "language": "python",
   "name": "python3"
  },
  "language_info": {
   "codemirror_mode": {
    "name": "ipython",
    "version": 3
   },
   "file_extension": ".py",
   "mimetype": "text/x-python",
   "name": "python",
   "nbconvert_exporter": "python",
   "pygments_lexer": "ipython3",
   "version": "3.9.7"
  },
  "orig_nbformat": 4
 },
 "nbformat": 4,
 "nbformat_minor": 2
}
