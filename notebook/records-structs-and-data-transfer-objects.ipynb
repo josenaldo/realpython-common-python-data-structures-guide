{
 "cells": [
  {
   "cell_type": "markdown",
   "metadata": {},
   "source": [
    "# Common Python Data Structures (Guide)\n",
    "\n",
    "[https://realpython.com/python-data-structures/](https://realpython.com/python-data-structures/)"
   ]
  },
  {
   "cell_type": "markdown",
   "metadata": {},
   "source": [
    "Neste tutorial, você aprenderá:\n",
    "\n",
    "- Quais tipos de dados abstratos comuns são integrados à biblioteca padrão do Python\n",
    "- Como os tipos de dados abstratos mais comuns são mapeados para o esquema de nomenclatura do Python\n",
    "- Como colocar tipos de dados abstratos em uso prático em vários algoritmos"
   ]
  },
  {
   "cell_type": "markdown",
   "metadata": {},
   "source": [
    "## Registros, Estuturas e Objetos de Transferência de Dados"
   ]
  },
  {
   "cell_type": "markdown",
   "metadata": {},
   "source": [
    "Em comparação com os arrays, as estruturas de dados de registro (*record*) fornecem um número fixo de campos. Cada campo pode ter um nome e também pode ter um tipo diferente.\n",
    "\n",
    "Nesta seção, você verá como implementar registros, estruturas(*struct*) e objetos de dados comuns no Python, usando apenas tipos de dados built-in e classes da biblioteca padrão.\n",
    "\n",
    "\n",
    "> Nota: Aqui, vamos usar uma definição vaga de registro. Por exemplo, também\n",
    "> vamos discutir tipos built-in como a tupla, que pode ou não ser considerada\n",
    "> registros em um sentido estrito, já que não fornecem campos nomeados.\n",
    "\n",
    "O Python oferece vários tipos de dados que você pode usar para implementar registros, estruturas e objetos de transferência de dados (*data transfer objects*). Nesta seção, você dará uma rápida olhada em cada implementação e suas características únicas. No final, você encontrará um resumo e um guia de decisão que ajudará você a fazer suas próprias escolhas."
   ]
  },
  {
   "cell_type": "markdown",
   "metadata": {},
   "source": [
    "### dict: Simple Data Objects"
   ]
  },
  {
   "cell_type": "markdown",
   "metadata": {},
   "source": [
    "Como mencionado anteriormente, os dicionários do Python armazenam um número arbitrário de objetos, cada um identificado por uma chave exclusiva. Os dicionários também são frequentemente chamados de mapas ou matrizes associativas e permitem a pesquisa, a inserção e a exclusão eficientes de qualquer objeto associado a uma determinada chave.\n",
    "\n",
    "Em Python, é possível usar dicionários como registro ou objeto de dados. Os dicionários são fáceis de criar, pois eles têm seu próprio açúcar sintático embutido na linguagem sob a forma de literais de dicionário. A sintaxe do dicionário é concisa e bastante conveniente para digitar.\n",
    "\n",
    "Os objetos de dados criados usando dicionários são mutáveis, e há pouca proteção contra nomes de campo com erros de digitação, assim como campos podem ser adicionados e removidos livremente a qualquer momento. Ambas as propriedades podem introduzir bugs surpreendentes, e há sempre uma trade-off a ser feita entre conveniência e resiliência a erro."
   ]
  },
  {
   "cell_type": "code",
   "execution_count": 1,
   "metadata": {},
   "outputs": [],
   "source": [
    "car1 = {\n",
    "    \"color\": \"red\",\n",
    "    \"mileage\": 3812.4,\n",
    "    \"automatic\": True,\n",
    "}\n",
    "\n",
    "car2 = {\n",
    "    \"color\": \"blue\",\n",
    "    \"mileage\": 40231,\n",
    "    \"automatic\": False,\n",
    "}"
   ]
  },
  {
   "cell_type": "code",
   "execution_count": 4,
   "metadata": {},
   "outputs": [
    {
     "data": {
      "text/plain": [
       "{'color': 'blue', 'mileage': 40231, 'automatic': False}"
      ]
     },
     "execution_count": 4,
     "metadata": {},
     "output_type": "execute_result"
    }
   ],
   "source": [
    "# car2.__repr__()\n",
    "car2"
   ]
  },
  {
   "cell_type": "code",
   "execution_count": 3,
   "metadata": {},
   "outputs": [
    {
     "data": {
      "text/plain": [
       "40231"
      ]
     },
     "execution_count": 3,
     "metadata": {},
     "output_type": "execute_result"
    }
   ],
   "source": [
    "# Get mileage\n",
    "car2[\"mileage\"]"
   ]
  },
  {
   "cell_type": "code",
   "execution_count": 5,
   "metadata": {},
   "outputs": [
    {
     "data": {
      "text/plain": [
       "{'color': 'blue', 'mileage': 12, 'automatic': False, 'windshield': 'broken'}"
      ]
     },
     "execution_count": 5,
     "metadata": {},
     "output_type": "execute_result"
    }
   ],
   "source": [
    "# Dicts são mutáveis\n",
    "car2[\"mileage\"] = 12\n",
    "car2[\"windshield\"] = \"broken\"\n",
    "car2"
   ]
  },
  {
   "cell_type": "code",
   "execution_count": 6,
   "metadata": {},
   "outputs": [
    {
     "data": {
      "text/plain": [
       "{'colr': 'green', 'automatic': False, 'windshield': 'broken'}"
      ]
     },
     "execution_count": 6,
     "metadata": {},
     "output_type": "execute_result"
    }
   ],
   "source": [
    "# Nenhuma proteção contra nomes de campo errados, campos ausentes ou\n",
    "# campos extras\n",
    "car3 = {\n",
    "    \"colr\": \"green\",\n",
    "    \"automatic\": False,\n",
    "    \"windshield\": \"broken\",\n",
    "}\n",
    "car3"
   ]
  },
  {
   "cell_type": "code",
   "execution_count": null,
   "metadata": {},
   "outputs": [],
   "source": []
  }
 ],
 "metadata": {
  "interpreter": {
   "hash": "8ae6e8347844ce31cefbfab1c46c85d6003d3a1108122483edd0f60efc9feef7"
  },
  "kernelspec": {
   "display_name": "Python 3.9.7 64-bit (conda)",
   "language": "python",
   "name": "python3"
  },
  "language_info": {
   "codemirror_mode": {
    "name": "ipython",
    "version": 3
   },
   "file_extension": ".py",
   "mimetype": "text/x-python",
   "name": "python",
   "nbconvert_exporter": "python",
   "pygments_lexer": "ipython3",
   "version": "3.9.7"
  },
  "orig_nbformat": 4
 },
 "nbformat": 4,
 "nbformat_minor": 2
}
