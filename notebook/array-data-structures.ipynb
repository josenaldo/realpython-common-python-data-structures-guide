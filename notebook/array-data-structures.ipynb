{
 "cells": [
  {
   "cell_type": "markdown",
   "metadata": {},
   "source": [
    "# Common Python Data Structures (Guide)\n",
    "\n",
    "[https://realpython.com/python-data-structures/](https://realpython.com/python-data-structures/)"
   ]
  },
  {
   "cell_type": "markdown",
   "metadata": {},
   "source": [
    "Neste tutorial, você aprenderá:\n",
    "\n",
    "- Quais tipos de dados abstratos comuns são integrados à biblioteca padrão do Python\n",
    "- Como os tipos de dados abstratos mais comuns são mapeados para o esquema de nomenclatura do Python\n",
    "- Como colocar tipos de dados abstratos em uso prático em vários algoritmos"
   ]
  },
  {
   "cell_type": "markdown",
   "metadata": {},
   "source": [
    "## Array Data Structures"
   ]
  },
  {
   "cell_type": "markdown",
   "metadata": {},
   "source": [
    "Um array é uma estrutura de dados fundamental disponível na maioria das linguagens de programação, e tem uma ampla gama de usos em diferentes algoritmos.\n",
    "\n",
    "Nesta seção, você dará uma olhada nas implementações de arrays em Python que usam apenas recursos padrão da linguagem principal ou funcionalidade que estão incluídas na biblioteca padrão do Python. Você verá os pontos fortes e fracos de cada abordagem para que você possa decidir qual implementação é certa para o seu caso de uso.\n",
    "\n",
    "Mas antes de nos aprofundarmos, primeiro, vamos cobrir alguns dos fundamentos.Como os arrays funcionam e pra que eles são usados?\n",
    "\n",
    "Arrays consistem em registros de dados de tamanho fixo que permitem que cada elemento seja localizado com base em seu índice:"
   ]
  },
  {
   "cell_type": "code",
   "execution_count": 1,
   "metadata": {},
   "outputs": [
    {
     "name": "stdout",
     "output_type": "stream",
     "text": [
      "1\n",
      "2\n",
      "3\n",
      "4\n",
      "5\n"
     ]
    }
   ],
   "source": [
    "#    0  1  2  3  4 <-- índices\n",
    "a = [1, 2, 3, 4, 5]\n",
    "\n",
    "print(a[0])  # deve imprimir 1\n",
    "print(a[1])  # deve imprimir 2\n",
    "print(a[2])  # deve imprimir 3\n",
    "print(a[3])  # deve imprimir 4\n",
    "print(a[4])  # deve imprimir 5"
   ]
  },
  {
   "cell_type": "markdown",
   "metadata": {},
   "source": [
    "Como os arrays armazenam informações em blocos adjacentes de memória, são consideradas estruturas de dados contíguas (em oposição a estruturas de dados vinculadas, como *linked lists*, por exemplo).\n",
    "\n",
    "Uma analogia do mundo real para um array é um estacionamento. Você pode olhar para o estacionamento como um todo e tratá-lo como um único objeto, mas dentro do lote há pontos de estacionamento indexados por um número único. Os pontos de estacionamento são recipientes para veículos - cada local de estacionamento pode estar vazio ou ter um carro, uma moto ou algum outro veículo estacionado nele.\n",
    "\n",
    "Mas nem todos os estacionamentos são os iguais. Alguns estacionamentos podem ser restritos a apenas um tipo de veículo. Por exemplo, um estacionamento de trailers não permitiria que bicicletas sejam estacionadas nele. Um estacionamento restrito corresponde a um array tipado, que permite que apenas elementos que possuam o mesmo tipo de dados sejam armazenados neles.\n",
    "\n",
    "Sob a ótica da performance, é muito rápido procurar um elemento contido em um array usando o índice do elemento. Uma implementação adequada de array garante um tempo de acesso constante O(1) para este caso.\n",
    "\n",
    "O Python inclui várias estruturas de dados, semelhantes a um array, em sua biblioteca padrão. E cada uma tem características ligeiramente diferentes. Vamos dar uma olhada."
   ]
  },
  {
   "cell_type": "markdown",
   "metadata": {},
   "source": [
    "## list: Arrays Mutáveis Dinâmicos"
   ]
  },
  {
   "cell_type": "markdown",
   "metadata": {},
   "source": [
    "As listas fazem parte do núcleo da linguagem Python. Apesar de seu nome, as listas do Python são implementadas como arrays dinâmicos nos bastidores.\n",
    "\n",
    "Isto significa que uma lista permite que os elementos sejam adicionados ou removidos, e a lista vai ajustar o armazenamento de apoio que mantém estes elementos automaticamente, ao alocar ou liberar memória.\n",
    "\n",
    "As listas de Python podem armazenar qualquer tipo de elemento, já que tudo, em Python, é um objeto, incluindo as funções. Portanto, você pode misturar e combinar diferentes tipos de tipos de dados e armazená-los todos em uma única lista.\n",
    "\n",
    "Isso pode ser um recurso poderoso, mas a desvantagem de suportar vários tipos de dados ao mesmo tempo é que a compactação dos dados não é tão boa. Como resultado, toda a estrutura ocupa mais espaço:"
   ]
  },
  {
   "cell_type": "code",
   "execution_count": 2,
   "metadata": {},
   "outputs": [
    {
     "data": {
      "text/plain": [
       "'one'"
      ]
     },
     "execution_count": 2,
     "metadata": {},
     "output_type": "execute_result"
    }
   ],
   "source": [
    "# criando uma lista\n",
    "arr = [\"one\", \"two\", \"three\"]\n",
    "arr[0]"
   ]
  },
  {
   "cell_type": "code",
   "execution_count": 3,
   "metadata": {},
   "outputs": [
    {
     "data": {
      "text/plain": [
       "['one', 'two', 'three']"
      ]
     },
     "execution_count": 3,
     "metadata": {},
     "output_type": "execute_result"
    }
   ],
   "source": [
    "# arr.__repr__()\n",
    "arr"
   ]
  },
  {
   "cell_type": "code",
   "execution_count": 4,
   "metadata": {},
   "outputs": [
    {
     "data": {
      "text/plain": [
       "['one', 'hello', 'three']"
      ]
     },
     "execution_count": 4,
     "metadata": {},
     "output_type": "execute_result"
    }
   ],
   "source": [
    "# Alterando um elemento da lista\n",
    "arr[1] = \"hello\"\n",
    "arr"
   ]
  },
  {
   "cell_type": "code",
   "execution_count": 5,
   "metadata": {},
   "outputs": [
    {
     "data": {
      "text/plain": [
       "['one', 'three']"
      ]
     },
     "execution_count": 5,
     "metadata": {},
     "output_type": "execute_result"
    }
   ],
   "source": [
    "# Removendo um elemento da lista\n",
    "del arr[1]\n",
    "arr"
   ]
  },
  {
   "cell_type": "code",
   "execution_count": 6,
   "metadata": {},
   "outputs": [
    {
     "data": {
      "text/plain": [
       "['one', 'three', 23]"
      ]
     },
     "execution_count": 6,
     "metadata": {},
     "output_type": "execute_result"
    }
   ],
   "source": [
    "# Adicionando um elemento na lista\n",
    "arr.append(23)\n",
    "arr"
   ]
  },
  {
   "cell_type": "markdown",
   "metadata": {},
   "source": [
    "## tuple: Recipientes imutáveis"
   ]
  },
  {
   "cell_type": "markdown",
   "metadata": {},
   "source": [
    "Assim como as listas, as tuplas fazem parte do núcleo da linguagem Python. Ao contrário das listas, no entanto, os objetos de tupla do Python são imutáveis.Isso significa que os elementos não podem ser adicionados ou removidos dinamicamente - todos os elementos em uma tupla devem ser definidos no tempo de criação.\n",
    "\n",
    "Tuplas são outra estrutura de dados que podem conter elementos de tipos de dados arbitrários. Ter essa flexibilidade é poderosa, mas novamente, também significa que a compactação dos dados é pior do que a compactação de um array tipado."
   ]
  },
  {
   "cell_type": "code",
   "execution_count": 7,
   "metadata": {},
   "outputs": [
    {
     "data": {
      "text/plain": [
       "'one'"
      ]
     },
     "execution_count": 7,
     "metadata": {},
     "output_type": "execute_result"
    }
   ],
   "source": [
    "arr = (\"one\", \"two\", \"three\")\n",
    "arr[0]"
   ]
  },
  {
   "cell_type": "code",
   "execution_count": 8,
   "metadata": {},
   "outputs": [
    {
     "data": {
      "text/plain": [
       "('one', 'two', 'three')"
      ]
     },
     "execution_count": 8,
     "metadata": {},
     "output_type": "execute_result"
    }
   ],
   "source": [
    "arr"
   ]
  },
  {
   "cell_type": "code",
   "execution_count": 9,
   "metadata": {},
   "outputs": [
    {
     "name": "stderr",
     "output_type": "stream",
     "text": [
      "Traceback (most recent call last):\n",
      "  File \"C:\\Users\\josen\\AppData\\Local\\Temp/ipykernel_53436/985881917.py\", line 4, in <module>\n",
      "    arr[1] = \"hello\"\n",
      "TypeError: 'tuple' object does not support item assignment\n"
     ]
    }
   ],
   "source": [
    "import traceback  # noqa E402\n",
    "\n",
    "try:\n",
    "    arr[1] = \"hello\"\n",
    "except TypeError:\n",
    "    traceback.print_exc()"
   ]
  },
  {
   "cell_type": "code",
   "execution_count": 10,
   "metadata": {},
   "outputs": [
    {
     "name": "stderr",
     "output_type": "stream",
     "text": [
      "Traceback (most recent call last):\n",
      "  File \"C:\\Users\\josen\\AppData\\Local\\Temp/ipykernel_53436/1830385992.py\", line 4, in <module>\n",
      "    del arr[1]\n",
      "TypeError: 'tuple' object doesn't support item deletion\n"
     ]
    }
   ],
   "source": [
    "import traceback  # noqa E402\n",
    "\n",
    "try:\n",
    "    del arr[1]\n",
    "except TypeError:\n",
    "    traceback.print_exc()"
   ]
  },
  {
   "cell_type": "code",
   "execution_count": 11,
   "metadata": {},
   "outputs": [
    {
     "data": {
      "text/plain": [
       "('one', 'two', 'three', 23)"
      ]
     },
     "execution_count": 11,
     "metadata": {},
     "output_type": "execute_result"
    }
   ],
   "source": [
    "# Você não pode adicionar um elemento em uma tupla, mas pode somar suas\n",
    "# tuplas, resultando em uma nova tupla\n",
    "arr + (23,)"
   ]
  },
  {
   "cell_type": "code",
   "execution_count": 12,
   "metadata": {},
   "outputs": [
    {
     "data": {
      "text/plain": [
       "('one', 'two', 'three')"
      ]
     },
     "execution_count": 12,
     "metadata": {},
     "output_type": "execute_result"
    }
   ],
   "source": [
    "arr"
   ]
  },
  {
   "cell_type": "markdown",
   "metadata": {},
   "source": [
    "## `array.array`: Basic Typed Arrays"
   ]
  },
  {
   "cell_type": "markdown",
   "metadata": {},
   "source": [
    "O módulo `array` do Python fornece uma forma eficiente (em relação a espaço) de armazenamento de tipos de dados básicos, estilo C, como bytes, inteiros de 32 bits, números de ponto flutuante e assim por diante.\n",
    "\n",
    "Arrays criados com a classe `array.array` são mutáveis e se comportam de maneira semelhante às listas, exceto para uma diferença importante: eles são arrays tipados, restritos a um único tipo de dados.\n",
    "\n",
    "Por causa dessa restrição, objetos `array.array` com muitos elementos economizam mais espaço que listas e tuplas. Os elementos armazenados nele são bem compactados, e isso pode ser muito útil se você quer armazenar elementos do mesmo tipo.\n",
    "\n",
    "Also, arrays support many of the same methods as regular lists, and you might be able to use them as a drop-in replacement without requiring other changes to your application code.\n",
    "\n",
    "Além disso, arrays suportam muitos dos mesmos métodos que as listas normais, e você pode substituir um pelo outro com poucas mudanças no código."
   ]
  },
  {
   "cell_type": "code",
   "execution_count": 13,
   "metadata": {},
   "outputs": [
    {
     "data": {
      "text/plain": [
       "1.5"
      ]
     },
     "execution_count": 13,
     "metadata": {},
     "output_type": "execute_result"
    }
   ],
   "source": [
    "import array  # noqa E402\n",
    "\n",
    "arr = array.array(\"f\", (1.0, 1.5, 2.0, 2.5))\n",
    "arr[1]"
   ]
  },
  {
   "cell_type": "code",
   "execution_count": 14,
   "metadata": {},
   "outputs": [
    {
     "data": {
      "text/plain": [
       "array('f', [1.0, 1.5, 2.0, 2.5])"
      ]
     },
     "execution_count": 14,
     "metadata": {},
     "output_type": "execute_result"
    }
   ],
   "source": [
    "# arr.__repr__():\n",
    "arr"
   ]
  },
  {
   "cell_type": "code",
   "execution_count": 15,
   "metadata": {},
   "outputs": [
    {
     "data": {
      "text/plain": [
       "array('f', [1.0, 23.0, 2.0, 2.5])"
      ]
     },
     "execution_count": 15,
     "metadata": {},
     "output_type": "execute_result"
    }
   ],
   "source": [
    "# Arrays são mutáveis:\n",
    "arr[1] = 23.0\n",
    "arr"
   ]
  },
  {
   "cell_type": "code",
   "execution_count": 16,
   "metadata": {},
   "outputs": [
    {
     "data": {
      "text/plain": [
       "array('f', [1.0, 2.0, 2.5])"
      ]
     },
     "execution_count": 16,
     "metadata": {},
     "output_type": "execute_result"
    }
   ],
   "source": [
    "# É possível deletar um elemento do array\n",
    "del arr[1]\n",
    "arr"
   ]
  },
  {
   "cell_type": "code",
   "execution_count": 17,
   "metadata": {},
   "outputs": [
    {
     "data": {
      "text/plain": [
       "array('f', [1.0, 2.0, 2.5, 42.0])"
      ]
     },
     "execution_count": 17,
     "metadata": {},
     "output_type": "execute_result"
    }
   ],
   "source": [
    "# É possível adicionar um elemento no array\n",
    "arr.append(42.0)\n",
    "arr"
   ]
  },
  {
   "cell_type": "code",
   "execution_count": 18,
   "metadata": {},
   "outputs": [
    {
     "name": "stderr",
     "output_type": "stream",
     "text": [
      "Traceback (most recent call last):\n",
      "  File \"C:\\Users\\josen\\AppData\\Local\\Temp/ipykernel_53436/985881917.py\", line 4, in <module>\n",
      "    arr[1] = \"hello\"\n",
      "TypeError: must be real number, not str\n"
     ]
    }
   ],
   "source": [
    "import traceback  # noqa E402\n",
    "\n",
    "try:\n",
    "    arr[1] = \"hello\"\n",
    "except TypeError:\n",
    "    traceback.print_exc()"
   ]
  },
  {
   "cell_type": "markdown",
   "metadata": {},
   "source": [
    "## str: arrays imutáveis de caracteres Unicode"
   ]
  },
  {
   "cell_type": "markdown",
   "metadata": {},
   "source": [
    "Python 3.x inclui um novo tipo de dados, o `str`, que é uma representação de uma sequência **imutável** de caracteres Unicode. Na prática, um str é um array imutável de caracteres. Estranhamente, é também uma estrutura de dados recursiva - cada caracter em uma string é, em si, um objeto str de comprimento 1.\n",
    "\n",
    "Objetos string são eficientes quanto ao espaço porque são bem compactados e especializados em um único tipo de dados. Se você estiver armazenando o texto Unicode, você deve usar uma string.\n",
    "\n",
    "Como as strings são imutáveis, modificar uma string requer a criação de uma cópia modificada, ou seja, uma nova string. O equivalente mais próximo a uma string mutável está no armazenando de caracteres individuais dentro de uma lista."
   ]
  },
  {
   "cell_type": "code",
   "execution_count": 19,
   "metadata": {},
   "outputs": [
    {
     "data": {
      "text/plain": [
       "'b'"
      ]
     },
     "execution_count": 19,
     "metadata": {},
     "output_type": "execute_result"
    }
   ],
   "source": [
    "arr = \"abcd\"\n",
    "arr[1]"
   ]
  },
  {
   "cell_type": "code",
   "execution_count": 20,
   "metadata": {},
   "outputs": [
    {
     "data": {
      "text/plain": [
       "'abcd'"
      ]
     },
     "execution_count": 20,
     "metadata": {},
     "output_type": "execute_result"
    }
   ],
   "source": [
    "arr"
   ]
  },
  {
   "cell_type": "code",
   "execution_count": 21,
   "metadata": {},
   "outputs": [
    {
     "name": "stderr",
     "output_type": "stream",
     "text": [
      "Traceback (most recent call last):\n",
      "  File \"C:\\Users\\josen\\AppData\\Local\\Temp/ipykernel_53436/672780305.py\", line 4, in <module>\n",
      "    arr[1] = \"e\"\n",
      "TypeError: 'str' object does not support item assignment\n"
     ]
    }
   ],
   "source": [
    "import traceback  # noqa E402\n",
    "\n",
    "try:\n",
    "    arr[1] = \"e\"\n",
    "except TypeError:\n",
    "    traceback.print_exc()"
   ]
  },
  {
   "cell_type": "code",
   "execution_count": 22,
   "metadata": {},
   "outputs": [
    {
     "name": "stderr",
     "output_type": "stream",
     "text": [
      "Traceback (most recent call last):\n",
      "  File \"C:\\Users\\josen\\AppData\\Local\\Temp/ipykernel_53436/1830385992.py\", line 4, in <module>\n",
      "    del arr[1]\n",
      "TypeError: 'str' object doesn't support item deletion\n"
     ]
    }
   ],
   "source": [
    "import traceback  # noqa E402\n",
    "\n",
    "try:\n",
    "    del arr[1]\n",
    "except TypeError:\n",
    "    traceback.print_exc()"
   ]
  },
  {
   "cell_type": "code",
   "execution_count": 23,
   "metadata": {},
   "outputs": [
    {
     "data": {
      "text/plain": [
       "['a', 'b', 'c', 'd']"
      ]
     },
     "execution_count": 23,
     "metadata": {},
     "output_type": "execute_result"
    }
   ],
   "source": [
    "# Uma string pode ser descompactada em uma lista, para obter uma representação\n",
    "# mutável dessa string\n",
    "list(\"abcd\")"
   ]
  },
  {
   "cell_type": "code",
   "execution_count": 24,
   "metadata": {},
   "outputs": [
    {
     "data": {
      "text/plain": [
       "'abcd'"
      ]
     },
     "execution_count": 24,
     "metadata": {},
     "output_type": "execute_result"
    }
   ],
   "source": [
    "# Para recompactar uma lista em uma string, você pode usar o método join\n",
    "\"\".join(list(\"abcd\"))"
   ]
  },
  {
   "cell_type": "code",
   "execution_count": 25,
   "metadata": {},
   "outputs": [
    {
     "data": {
      "text/plain": [
       "str"
      ]
     },
     "execution_count": 25,
     "metadata": {},
     "output_type": "execute_result"
    }
   ],
   "source": [
    "# Strings são estruturas de dados recursivas, ou seja, cada pedaço da string é\n",
    "# uma outra string.\n",
    "type(\"abc\")"
   ]
  },
  {
   "cell_type": "code",
   "execution_count": 26,
   "metadata": {},
   "outputs": [
    {
     "data": {
      "text/plain": [
       "str"
      ]
     },
     "execution_count": 26,
     "metadata": {},
     "output_type": "execute_result"
    }
   ],
   "source": [
    "type(\"abc\"[0])"
   ]
  },
  {
   "cell_type": "code",
   "execution_count": null,
   "metadata": {},
   "outputs": [],
   "source": []
  }
 ],
 "metadata": {
  "interpreter": {
   "hash": "8ae6e8347844ce31cefbfab1c46c85d6003d3a1108122483edd0f60efc9feef7"
  },
  "kernelspec": {
   "display_name": "Python 3.9.7 64-bit (conda)",
   "name": "python3"
  },
  "language_info": {
   "codemirror_mode": {
    "name": "ipython",
    "version": 3
   },
   "file_extension": ".py",
   "mimetype": "text/x-python",
   "name": "python",
   "nbconvert_exporter": "python",
   "pygments_lexer": "ipython3",
   "version": "3.9.7"
  },
  "orig_nbformat": 4
 },
 "nbformat": 4,
 "nbformat_minor": 2
}
