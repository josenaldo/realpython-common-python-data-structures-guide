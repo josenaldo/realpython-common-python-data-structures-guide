{
 "cells": [
  {
   "cell_type": "markdown",
   "metadata": {},
   "source": [
    "# Common Python Data Structures (Guide)\n",
    "\n",
    "[https://realpython.com/python-data-structures/](https://realpython.com/python-data-structures/)"
   ]
  },
  {
   "cell_type": "markdown",
   "metadata": {},
   "source": [
    "Neste tutorial, você aprenderá:\n",
    "\n",
    "- Quais tipos de dados abstratos comuns são integrados à biblioteca padrão do Python\n",
    "- Como os tipos de dados abstratos mais comuns são mapeados para o esquema de nomenclatura do Python\n",
    "- Como colocar tipos de dados abstratos em uso prático em vários algoritmos"
   ]
  },
  {
   "cell_type": "markdown",
   "metadata": {},
   "source": [
    "## Array Data Structures"
   ]
  },
  {
   "cell_type": "markdown",
   "metadata": {},
   "source": [
    "Um array é uma estrutura de dados fundamental disponível na maioria das linguagens de programação, e tem uma ampla gama de usos em diferentes algoritmos.\n",
    "\n",
    "Nesta seção, você dará uma olhada nas implementações de arrays em Python que usam apenas recursos padrão da linguagem principal ou funcionalidade que estão incluídas na biblioteca padrão do Python. Você verá os pontos fortes e fracos de cada abordagem para que você possa decidir qual implementação é certa para o seu caso de uso.\n",
    "\n",
    "Mas antes de nos aprofundarmos, primeiro, vamos cobrir alguns dos fundamentos.Como os arrays funcionam e pra que eles são usados?\n",
    "\n",
    "Arrays consistem em registros de dados de tamanho fixo que permitem que cada elemento seja localizado com base em seu índice:"
   ]
  },
  {
   "cell_type": "code",
   "execution_count": 1,
   "metadata": {},
   "outputs": [
    {
     "name": "stdout",
     "output_type": "stream",
     "text": [
      "1\n",
      "2\n",
      "3\n",
      "4\n",
      "5\n"
     ]
    }
   ],
   "source": [
    "#    0  1  2  3  4 <-- índices\n",
    "a = [1, 2, 3, 4, 5]\n",
    "\n",
    "print(a[0])  # deve imprimir 1\n",
    "print(a[1])  # deve imprimir 2\n",
    "print(a[2])  # deve imprimir 3\n",
    "print(a[3])  # deve imprimir 4\n",
    "print(a[4])  # deve imprimir 5"
   ]
  },
  {
   "cell_type": "markdown",
   "metadata": {},
   "source": [
    "Como os arrays armazenam informações em blocos adjacentes de memória, são consideradas estruturas de dados contíguas (em oposição a estruturas de dados vinculadas, como *linked lists*, por exemplo).\n",
    "\n",
    "Uma analogia do mundo real para um array é um estacionamento. Você pode olhar para o estacionamento como um todo e tratá-lo como um único objeto, mas dentro do lote há pontos de estacionamento indexados por um número único. Os pontos de estacionamento são recipientes para veículos - cada local de estacionamento pode estar vazio ou ter um carro, uma moto ou algum outro veículo estacionado nele.\n",
    "\n",
    "Mas nem todos os estacionamentos são os iguais. Alguns estacionamentos podem ser restritos a apenas um tipo de veículo. Por exemplo, um estacionamento de trailers não permitiria que bicicletas sejam estacionadas nele. Um estacionamento restrito corresponde a um array tipado, que permite que apenas elementos que possuam o mesmo tipo de dados sejam armazenados neles.\n",
    "\n",
    "Sob a ótica da performance, é muito rápido procurar um elemento contido em um array usando o índice do elemento. Uma implementação adequada de array garante um tempo de acesso constante O(1) para este caso.\n",
    "\n",
    "O Python inclui várias estruturas de dados, semelhantes a um array, em sua biblioteca padrão. E cada uma tem características ligeiramente diferentes. Vamos dar uma olhada."
   ]
  },
  {
   "cell_type": "markdown",
   "metadata": {},
   "source": []
  }
 ],
 "metadata": {
  "interpreter": {
   "hash": "8ae6e8347844ce31cefbfab1c46c85d6003d3a1108122483edd0f60efc9feef7"
  },
  "kernelspec": {
   "display_name": "Python 3.9.7 64-bit (conda)",
   "name": "python3"
  },
  "language_info": {
   "codemirror_mode": {
    "name": "ipython",
    "version": 3
   },
   "file_extension": ".py",
   "mimetype": "text/x-python",
   "name": "python",
   "nbconvert_exporter": "python",
   "pygments_lexer": "ipython3",
   "version": "3.9.7"
  },
  "orig_nbformat": 4
 },
 "nbformat": 4,
 "nbformat_minor": 2
}
