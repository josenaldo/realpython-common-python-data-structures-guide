{
 "cells": [
  {
   "cell_type": "markdown",
   "metadata": {},
   "source": [
    "# Common Python Data Structures (Guide)\n",
    "\n",
    "[https://realpython.com/python-data-structures/](https://realpython.com/python-data-structures/)"
   ]
  },
  {
   "cell_type": "markdown",
   "metadata": {},
   "source": [
    "Neste tutorial, você aprenderá:\n",
    "\n",
    "- Quais tipos de dados abstratos comuns são integrados à biblioteca padrão do Python\n",
    "- Como os tipos de dados abstratos mais comuns são mapeados para o esquema de nomenclatura do Python\n",
    "- Como colocar tipos de dados abstratos em uso prático em vários algoritmos"
   ]
  },
  {
   "cell_type": "markdown",
   "metadata": {},
   "source": [
    "## Sets e Multisets\n",
    "\n",
    "[https://realpython.com/python-data-structures/#sets-and-multisets](https://realpython.com/python-data-structures/#sets-and-multisets)"
   ]
  },
  {
   "cell_type": "markdown",
   "metadata": {},
   "source": [
    "Nesta seção, você verá como implementar 3 estruturas de dados: conjuntos (`set`) mutáveis, conjunto imutáveis e `multiset` (bag). Faremos isso usando tipos de dados built-in e classes da biblioteca padrão.\n",
    "\n",
    "Um `set` é uma coleção não ordenada de objetos, que não permite elementos duplicados. Normalmente, os `sets` são usados para testar rapidamente se um valor pertence ao conjunto, para inserir ou excluir novos valores de um conjunto e para calcular a união ou intersecção de dois conjuntos.\n",
    "\n",
    "Em uma implementação de `set` adequada, espera-se que os testes de pertencimento sejam executados em tempo `O(1)`. As operações de união, interseção, diferença e subconjunto devem executar em `O(n)`, em média. As implementações incluídas na biblioteca padrão do Python seguem essas características de desempenho.\n",
    "\n",
    "Assim como os dicionários, `sets` recebem tratamento especial em Python e têm seu próprio açúcar sintático, o que os torna mais fáceis de criar. Por exemplo, para criar um conjunto, podemos usar a sintaxe se conjunto (`{}`) ou um set comprehension (`{x for x in iterable}`)."
   ]
  },
  {
   "cell_type": "code",
   "execution_count": 1,
   "metadata": {},
   "outputs": [
    {
     "data": {
      "text/plain": [
       "{'a', 'e', 'i', 'o', 'u'}"
      ]
     },
     "execution_count": 1,
     "metadata": {},
     "output_type": "execute_result"
    }
   ],
   "source": [
    "# Observe que, entre as chaves, temos apenas os valores, não temos as chaves\n",
    "vogais = {\"a\", \"e\", \"i\", \"o\", \"u\"}\n",
    "vogais"
   ]
  },
  {
   "cell_type": "code",
   "execution_count": 2,
   "metadata": {},
   "outputs": [
    {
     "data": {
      "text/plain": [
       "{0, 1, 4, 9, 16, 25, 36, 49, 64, 81}"
      ]
     },
     "execution_count": 2,
     "metadata": {},
     "output_type": "execute_result"
    }
   ],
   "source": [
    "quadrados = {x * x for x in range(10)}\n",
    "quadrados"
   ]
  },
  {
   "cell_type": "markdown",
   "metadata": {},
   "source": [
    "Mas tenha cuidado: para criar um `set` vazio, você precisará chamar o construtor `set()`. O uso de chaves vazios (`{}`) é ambíguo e criará um `dict` vazio.\n",
    "\n",
    "O Python e sua biblioteca padrão fornecem várias implementações de `sets`. Vamos dar uma olhada neles."
   ]
  },
  {
   "cell_type": "markdown",
   "metadata": {},
   "source": [
    "### `set`: Seu conjunto de toda hora"
   ]
  },
  {
   "cell_type": "markdown",
   "metadata": {},
   "source": [
    "O tipo `set` é a implementação built-in para set, no Python. É mutável e permite a inserção e exclusão de elementos.\n",
    "\n",
    "Os `sets` do Python são implementados em cima do `dict` e compartilham as mesmas características de desempenho. Qualquer objeto *hashable* pode ser armazenado em um `set`."
   ]
  },
  {
   "cell_type": "code",
   "execution_count": 3,
   "metadata": {},
   "outputs": [
    {
     "data": {
      "text/plain": [
       "True"
      ]
     },
     "execution_count": 3,
     "metadata": {},
     "output_type": "execute_result"
    }
   ],
   "source": [
    "vogais = {\"a\", \"e\", \"i\", \"o\", \"u\"}\n",
    "\"e\" in vogais"
   ]
  },
  {
   "cell_type": "code",
   "execution_count": 4,
   "metadata": {},
   "outputs": [
    {
     "data": {
      "text/plain": [
       "{'a', 'e', 'i'}"
      ]
     },
     "execution_count": 4,
     "metadata": {},
     "output_type": "execute_result"
    }
   ],
   "source": [
    "letras = set(\"alice\")\n",
    "letras.intersection(vogais)"
   ]
  },
  {
   "cell_type": "code",
   "execution_count": 5,
   "metadata": {},
   "outputs": [
    {
     "data": {
      "text/plain": [
       "{'a', 'e', 'i', 'o', 'u', 'x'}"
      ]
     },
     "execution_count": 5,
     "metadata": {},
     "output_type": "execute_result"
    }
   ],
   "source": [
    "vogais.add(\"x\")\n",
    "vogais"
   ]
  },
  {
   "cell_type": "code",
   "execution_count": 6,
   "metadata": {},
   "outputs": [
    {
     "data": {
      "text/plain": [
       "6"
      ]
     },
     "execution_count": 6,
     "metadata": {},
     "output_type": "execute_result"
    }
   ],
   "source": [
    "len(vogais)"
   ]
  },
  {
   "cell_type": "markdown",
   "metadata": {},
   "source": [
    "### `frozenset`: Conjuntos imutáveis"
   ]
  },
  {
   "cell_type": "markdown",
   "metadata": {},
   "source": [
    "A classe `frozenset` implementa uma versão imutável de `set`, que não pode ser alterada depois que o objeto é criado.\n",
    "\n",
    "Objetos `frozenset` são estáticos e permitem apenas operações de consulta em seus elementos, não permitindo inserções ou exclusões. Como os objetos `frozenset` são estáticos e hashble, eles podem ser usados como chaves de dicionário ou como elementos de outro `set`, algo que não é possível com objetos regulares, que são mutáveis."
   ]
  },
  {
   "cell_type": "code",
   "execution_count": 7,
   "metadata": {},
   "outputs": [
    {
     "name": "stderr",
     "output_type": "stream",
     "text": [
      "Traceback (most recent call last):\n",
      "  File \"C:\\Users\\josen\\AppData\\Local\\Temp/ipykernel_77924/1891305303.py\", line 7, in <module>\n",
      "    vogais.add(\"p\")\n",
      "AttributeError: 'frozenset' object has no attribute 'add'\n"
     ]
    }
   ],
   "source": [
    "import traceback  # noqa E402\n",
    "\n",
    "\n",
    "vogais = frozenset({\"a\", \"e\", \"i\", \"o\", \"u\"})\n",
    "\n",
    "try:\n",
    "    vogais.add(\"p\")\n",
    "except AttributeError:\n",
    "    traceback.print_exc()"
   ]
  },
  {
   "cell_type": "code",
   "execution_count": 9,
   "metadata": {},
   "outputs": [
    {
     "data": {
      "text/plain": [
       "'hello'"
      ]
     },
     "execution_count": 9,
     "metadata": {},
     "output_type": "execute_result"
    }
   ],
   "source": [
    "# Frozensets são hashable e podem ser usados como chaves de dicionário:\n",
    "d = {frozenset({1, 2, 3}): \"hello\"}\n",
    "d[frozenset({1, 2, 3})]"
   ]
  },
  {
   "cell_type": "code",
   "execution_count": null,
   "metadata": {},
   "outputs": [],
   "source": []
  }
 ],
 "metadata": {
  "interpreter": {
   "hash": "8ae6e8347844ce31cefbfab1c46c85d6003d3a1108122483edd0f60efc9feef7"
  },
  "kernelspec": {
   "display_name": "Python 3.9.7 64-bit (conda)",
   "language": "python",
   "name": "python3"
  },
  "language_info": {
   "codemirror_mode": {
    "name": "ipython",
    "version": 3
   },
   "file_extension": ".py",
   "mimetype": "text/x-python",
   "name": "python",
   "nbconvert_exporter": "python",
   "pygments_lexer": "ipython3",
   "version": "3.9.7"
  },
  "orig_nbformat": 4
 },
 "nbformat": 4,
 "nbformat_minor": 2
}
