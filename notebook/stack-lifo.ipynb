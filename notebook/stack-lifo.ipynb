{
 "cells": [
  {
   "cell_type": "markdown",
   "metadata": {},
   "source": [
    "# Common Python Data Structures (Guide)\n",
    "\n",
    "[https://realpython.com/python-data-structures/](https://realpython.com/python-data-structures/)"
   ]
  },
  {
   "cell_type": "markdown",
   "metadata": {},
   "source": [
    "Neste tutorial, você aprenderá:\n",
    "\n",
    "- Quais tipos de dados abstratos comuns são integrados à biblioteca padrão do Python\n",
    "- Como os tipos de dados abstratos mais comuns são mapeados para o esquema de nomenclatura do Python\n",
    "- Como colocar tipos de dados abstratos em uso prático em vários algoritmos"
   ]
  },
  {
   "cell_type": "markdown",
   "metadata": {},
   "source": [
    "## Pilhas(LIFO - UEPS)\n",
    "\n",
    "[https://realpython.com/python-data-structures/#stacks-lifos](https://realpython.com/python-data-structures/#stacks-lifos)\n"
   ]
  },
  {
   "cell_type": "markdown",
   "metadata": {},
   "source": []
  },
  {
   "cell_type": "markdown",
   "metadata": {},
   "source": [
    "Uma pilha (stack) é uma coleção de objetos que suporta inserções e exclusões seguindo a regra **\"Último-a-Entrar/Primeiro-a-Sair\"** (em inglês **\"Last-In/First-Out\"** ou **LIFO** ). Ao contrário das listas ou matrizes, as pilhas normalmente não permitem acesso aleatório aos objetos que contêm. As operações de inserção e exclusão também são chamadas de ***push*** e ***pop***.\n",
    "\n",
    "Uma analogia útil do mundo real para uma estrutura de dados de pilha é uma pilha de placas. Novas placas são adicionadas ao topo da pilha, e porque as placas são preciosas e pesadas, apenas a placa mais alta pode ser movida. Em outras palavras, a última placa a entrar na pilha deve ser a primeira removida (LIFO). Para alcançar as placas que são mais baixas na pilha, as placas superiores devem ser removidas uma a uma.\n",
    "\n",
    "Em relação à performance, espera-se que uma implementação de pilha adequada leve `O(1)` para operações de inserção e exclusão.\n",
    "\n",
    "As pilhas têm uma ampla gama de usos em algoritmos. Por exemplo, eles são usados na análise de linguagem, bem como gerenciamento de memória de tempo de execução, que depende de uma pilha de chamadas. Um algoritmo curto e bonito usando uma pilha é o algoritmo de busca em profundidade (do inglês Depth-First Search, ou DFS) em uma árvore ou grafo.\n",
    "\n",
    "Python já vem com várias implementações de pilha, sendo que cada uma delas tem características ligeiramente diferentes. Vamos dar uma olhada neles e comparar suas características."
   ]
  },
  {
   "cell_type": "markdown",
   "metadata": {},
   "source": [
    "### `list`: Pilhas simples inclusas"
   ]
  },
  {
   "cell_type": "markdown",
   "metadata": {},
   "source": [
    "A classe `list` é uma implementação decente de pilhas, pois suporta operações de `push` e `pop` em tempo `O(1)`.\n",
    "\n",
    "As listas do Python são implementadas como arrays dinâmicos, internamente, o que significa que, ocasionalmente, é necessário redimensionar o espaço de armazenamento quando os elementos são adicionados ou removidos. A lista sobre-aloca seu armazenamento de apoio, de forma que nem todas as operações `push` ou `pop` necessitam de redimensionamento. Como resultado, você tem um tempo **amortizado** de `O(1)` para essas operações.\n",
    "\n",
    "A desvantagem é que isso torna seu desempenho menos consistente do que métodos inserir e exclui baseados em lista encadeada, que tem desempenho estável de `O(1)`, como você verá abaixo com `collections.deque`. Por outro lado, as listas fornecem acesso aleatório, aos elemetos da pilha, de tempo `O(1)`, e isso pode ser um benefício adicional.\n",
    "\n",
    "Há uma importante ressalva, no que diz respeito ao desempenho, da qual você deve estar ciente ao usar listas como pilhas: para obter o desempenho `O(1)` amortizado para inserções e exclusões, novos itens devem ser adicionados ao final da lista, com o método `append()`, e removidos novamente do final usando `pop()`. Para um desempenho ideal, as pilhas com base nas listas de Python devem crescer em direção a índices mais altos e encolher para os mais baixos.\n",
    "\n",
    "Adicionar e remover da frente é muito mais lento e toma o tempo de `O(n)`, pois os elementos existentes devem ser deslocados para abrir espaço para o novo elemento. Este é um anti-padrão de desempenho que você deve evitar o máximo possível."
   ]
  },
  {
   "cell_type": "code",
   "execution_count": 1,
   "metadata": {},
   "outputs": [
    {
     "data": {
      "text/plain": [
       "['eat', 'sleep', 'code']"
      ]
     },
     "execution_count": 1,
     "metadata": {},
     "output_type": "execute_result"
    }
   ],
   "source": [
    "s = []\n",
    "s.append(\"eat\")\n",
    "s.append(\"sleep\")\n",
    "s.append(\"code\")\n",
    "\n",
    "s"
   ]
  },
  {
   "cell_type": "code",
   "execution_count": 2,
   "metadata": {},
   "outputs": [
    {
     "data": {
      "text/plain": [
       "'code'"
      ]
     },
     "execution_count": 2,
     "metadata": {},
     "output_type": "execute_result"
    }
   ],
   "source": [
    "s.pop()"
   ]
  },
  {
   "cell_type": "code",
   "execution_count": 3,
   "metadata": {},
   "outputs": [
    {
     "data": {
      "text/plain": [
       "['eat', 'sleep']"
      ]
     },
     "execution_count": 3,
     "metadata": {},
     "output_type": "execute_result"
    }
   ],
   "source": [
    "s"
   ]
  },
  {
   "cell_type": "code",
   "execution_count": 4,
   "metadata": {},
   "outputs": [
    {
     "data": {
      "text/plain": [
       "'sleep'"
      ]
     },
     "execution_count": 4,
     "metadata": {},
     "output_type": "execute_result"
    }
   ],
   "source": [
    "s.pop()"
   ]
  },
  {
   "cell_type": "code",
   "execution_count": 5,
   "metadata": {},
   "outputs": [
    {
     "data": {
      "text/plain": [
       "['eat']"
      ]
     },
     "execution_count": 5,
     "metadata": {},
     "output_type": "execute_result"
    }
   ],
   "source": [
    "s"
   ]
  },
  {
   "cell_type": "code",
   "execution_count": 6,
   "metadata": {},
   "outputs": [
    {
     "data": {
      "text/plain": [
       "'eat'"
      ]
     },
     "execution_count": 6,
     "metadata": {},
     "output_type": "execute_result"
    }
   ],
   "source": [
    "s.pop()"
   ]
  },
  {
   "cell_type": "code",
   "execution_count": 7,
   "metadata": {},
   "outputs": [
    {
     "data": {
      "text/plain": [
       "[]"
      ]
     },
     "execution_count": 7,
     "metadata": {},
     "output_type": "execute_result"
    }
   ],
   "source": [
    "s"
   ]
  },
  {
   "cell_type": "code",
   "execution_count": 8,
   "metadata": {},
   "outputs": [
    {
     "name": "stderr",
     "output_type": "stream",
     "text": [
      "Traceback (most recent call last):\n",
      "  File \"C:\\Users\\josen\\AppData\\Local\\Temp/ipykernel_23880/547615215.py\", line 4, in <module>\n",
      "    s.pop()\n",
      "IndexError: pop from empty list\n"
     ]
    }
   ],
   "source": [
    "import traceback  # noqa E402\n",
    "\n",
    "try:\n",
    "    s.pop()\n",
    "except IndexError:\n",
    "    traceback.print_exc()"
   ]
  },
  {
   "cell_type": "markdown",
   "metadata": {},
   "source": [
    "### `collections.deque`: Pilhas rápidas e robustas"
   ]
  },
  {
   "cell_type": "markdown",
   "metadata": {},
   "source": [
    "A classe `deque` implementa uma fila dupla que suporta adicionar e remover elementos da extremidade com tempo `O(1)` (não amortizado). Como os `deques` suportam inserção e remoção de elementos nas duas extremidades, igualmente bem, eles podem servir tanto como filas quanto como pilhas.\n",
    "\n",
    "Objetos `deque` são implementados como listas duplamente encadeadas, o que lhes dá desempenho excelente e consistente para inserir e excluir elementos, mas um desempenho pobre, de `O(n)`, para acessar elementos aleatoriamente, no meio de uma pilha.\n",
    "\n",
    "No geral, `collections.deque` é uma ótima opção se você estiver procurando por uma pilha, na biblioteca padrão do Python, que tenha as características de desempenho de uma implementação de lista encadeada."
   ]
  },
  {
   "cell_type": "code",
   "execution_count": 9,
   "metadata": {},
   "outputs": [
    {
     "data": {
      "text/plain": [
       "deque(['eat', 'sleep', 'code'])"
      ]
     },
     "execution_count": 9,
     "metadata": {},
     "output_type": "execute_result"
    }
   ],
   "source": [
    "from collections import deque  # noqa E402\n",
    "\n",
    "\n",
    "s = deque()\n",
    "s.append(\"eat\")\n",
    "s.append(\"sleep\")\n",
    "s.append(\"code\")\n",
    "s"
   ]
  },
  {
   "cell_type": "code",
   "execution_count": 10,
   "metadata": {},
   "outputs": [
    {
     "data": {
      "text/plain": [
       "'code'"
      ]
     },
     "execution_count": 10,
     "metadata": {},
     "output_type": "execute_result"
    }
   ],
   "source": [
    "s.pop()"
   ]
  },
  {
   "cell_type": "code",
   "execution_count": 11,
   "metadata": {},
   "outputs": [
    {
     "data": {
      "text/plain": [
       "deque(['eat', 'sleep'])"
      ]
     },
     "execution_count": 11,
     "metadata": {},
     "output_type": "execute_result"
    }
   ],
   "source": [
    "s"
   ]
  },
  {
   "cell_type": "code",
   "execution_count": 12,
   "metadata": {},
   "outputs": [
    {
     "data": {
      "text/plain": [
       "'sleep'"
      ]
     },
     "execution_count": 12,
     "metadata": {},
     "output_type": "execute_result"
    }
   ],
   "source": [
    "s.pop()"
   ]
  },
  {
   "cell_type": "code",
   "execution_count": 13,
   "metadata": {},
   "outputs": [
    {
     "data": {
      "text/plain": [
       "deque(['eat'])"
      ]
     },
     "execution_count": 13,
     "metadata": {},
     "output_type": "execute_result"
    }
   ],
   "source": [
    "s"
   ]
  },
  {
   "cell_type": "code",
   "execution_count": 15,
   "metadata": {},
   "outputs": [
    {
     "data": {
      "text/plain": [
       "'eat'"
      ]
     },
     "execution_count": 15,
     "metadata": {},
     "output_type": "execute_result"
    }
   ],
   "source": [
    "s.pop()\n"
   ]
  },
  {
   "cell_type": "code",
   "execution_count": 16,
   "metadata": {},
   "outputs": [
    {
     "data": {
      "text/plain": [
       "deque([])"
      ]
     },
     "execution_count": 16,
     "metadata": {},
     "output_type": "execute_result"
    }
   ],
   "source": [
    "s"
   ]
  },
  {
   "cell_type": "code",
   "execution_count": 17,
   "metadata": {},
   "outputs": [
    {
     "name": "stderr",
     "output_type": "stream",
     "text": [
      "Traceback (most recent call last):\n",
      "  File \"C:\\Users\\josen\\AppData\\Local\\Temp/ipykernel_23880/547615215.py\", line 4, in <module>\n",
      "    s.pop()\n",
      "IndexError: pop from an empty deque\n"
     ]
    }
   ],
   "source": [
    "import traceback  # noqa E402\n",
    "\n",
    "try:\n",
    "    s.pop()\n",
    "except IndexError:\n",
    "    traceback.print_exc()"
   ]
  },
  {
   "cell_type": "code",
   "execution_count": null,
   "metadata": {},
   "outputs": [],
   "source": []
  }
 ],
 "metadata": {
  "interpreter": {
   "hash": "8ae6e8347844ce31cefbfab1c46c85d6003d3a1108122483edd0f60efc9feef7"
  },
  "kernelspec": {
   "display_name": "Python 3.9.7 64-bit (conda)",
   "language": "python",
   "name": "python3"
  },
  "language_info": {
   "codemirror_mode": {
    "name": "ipython",
    "version": 3
   },
   "file_extension": ".py",
   "mimetype": "text/x-python",
   "name": "python",
   "nbconvert_exporter": "python",
   "pygments_lexer": "ipython3",
   "version": "3.9.7"
  },
  "orig_nbformat": 4
 },
 "nbformat": 4,
 "nbformat_minor": 2
}
