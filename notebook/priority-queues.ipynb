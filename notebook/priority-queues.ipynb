{
 "cells": [
  {
   "cell_type": "markdown",
   "metadata": {},
   "source": [
    "# Common Python Data Structures (Guide)\n",
    "\n",
    "[https://realpython.com/python-data-structures/](https://realpython.com/python-data-structures/)"
   ]
  },
  {
   "cell_type": "markdown",
   "metadata": {},
   "source": [
    "Neste tutorial, você aprenderá:\n",
    "\n",
    "- Quais tipos de dados abstratos comuns são integrados à biblioteca padrão do Python\n",
    "- Como os tipos de dados abstratos mais comuns são mapeados para o esquema de nomenclatura do Python\n",
    "- Como colocar tipos de dados abstratos em uso prático em vários algoritmos"
   ]
  },
  {
   "cell_type": "markdown",
   "metadata": {},
   "source": [
    "## Priority Queues\n",
    "\n",
    "[https://realpython.com/python-data-structures/#priority-queues](https://realpython.com/python-data-structures/#priority-queues)\n"
   ]
  },
  {
   "cell_type": "markdown",
   "metadata": {},
   "source": [
    "Uma fila de prioridade é uma estrutura de dados contêiner que gerencia um conjunto de registros com chaves totalmente ordenadas para fornecer acesso rápido ao registro com a menor ou maior chave no conjunto.\n",
    "\n",
    "Você pode pensar em uma fila de prioridade como uma fila modificada. Em vez de recuperar o próximo elemento pelo tempo de inserção, ele recupera o elemento de prioridade mais alto. A prioridade dos elementos individuais é decidida pela ordem aplicada às suas chaves.\n",
    "\n",
    "Filas de prioridade são comumente usadas para lidar com problemas de agendamento. Por exemplo, você pode usá-los para dar precedência a tarefas com maior urgência.\n",
    "\n",
    "Pense no trabalho de um agendador de tarefas do sistema operacional:\n",
    "\n",
    "Idealmente, tarefas de maior prioridade no sistema (como jogar um jogo em tempo real) devem ter precedência sobre tarefas de menor prioridade (como baixar atualizações no fundo). Ao organizar tarefas pendentes em uma fila de prioridade que usa a urgência da tarefa como chave, o agendador de tarefas pode selecionar rapidamente as tarefas de prioridade mais alta e permitir que eles executem primeiro.\n",
    "\n",
    "Nesta seção, você verá algumas opções para como você pode implementar filas de prioridade em Python usando estruturas de dados integradas ou estruturas de dados incluídas na biblioteca padrão do Python. Cada implementação terá suas próprias vantagens e desvantagens, mas parece haver um vencedor claro para os cenários mais comuns. Vamos descobrir qual deles é."
   ]
  },
  {
   "cell_type": "markdown",
   "metadata": {},
   "source": [
    "### `list`: Filas classificadas manualmente"
   ]
  },
  {
   "cell_type": "markdown",
   "metadata": {},
   "source": [
    "Você pode usar uma sorted list para identificar e excluir rapidamente o menor ou maior elemento. A desvantagem é que inserir novos elementos em uma lista é uma operação lenta, de tempo `O(n)`.\n",
    "\n",
    "Embora o ponto de inserção possa ser encontrado no tempo `O(log n)` usando `bisect.insort`, da biblioteca padrão, isso é sempre dominado pela etapa de inserção lenta.\n",
    "\n",
    "A manutenção da ordem, fazendo a inclusão do elemento, seguida da re-ordenação,  também leva o tempo `O(n log n)`. Outra desvantagem é que você deve cuidar manualmente de re-ordenar a lista quando novos elementos são inseridos. É fácil introduzir bugs caso essa etapa sega esquecida, e o fardo disso está sempre no desenvolvedor.\n",
    "\n",
    "Isso significa que sorted lists só são adequadas como filas de prioridade se houver poucas inserções."
   ]
  },
  {
   "cell_type": "code",
   "execution_count": 1,
   "metadata": {},
   "outputs": [
    {
     "name": "stdout",
     "output_type": "stream",
     "text": [
      "(1, 'eat')\n",
      "(2, 'code')\n",
      "(3, 'sleep')\n"
     ]
    }
   ],
   "source": [
    "q = []\n",
    "q.append((2, \"code\"))\n",
    "q.append((1, \"eat\"))\n",
    "q.append((3, \"sleep\"))\n",
    "\n",
    "# Lembre-se de re-ordenar a lista toda vez que um novo elemento for\n",
    "# inserido. Ou use bisect.insort()\n",
    "q.sort(reverse=True)\n",
    "\n",
    "while q:\n",
    "    next_item = q.pop()\n",
    "    print(next_item)"
   ]
  },
  {
   "cell_type": "code",
   "execution_count": 2,
   "metadata": {},
   "outputs": [
    {
     "name": "stdout",
     "output_type": "stream",
     "text": [
      "(1, 'eat')\n",
      "(2, 'code')\n",
      "(3, 'sleep')\n"
     ]
    }
   ],
   "source": [
    "from bisect import insort  # noqa: E402\n",
    "\n",
    "\n",
    "q = []\n",
    "insort(q, (2, \"code\"))\n",
    "insort(q, (1, \"eat\"))\n",
    "insort(q, (3, \"sleep\"))\n",
    "\n",
    "q.sort(reverse=True)\n",
    "\n",
    "while q:\n",
    "    next_item = q.pop()\n",
    "    print(next_item)"
   ]
  },
  {
   "cell_type": "markdown",
   "metadata": {},
   "source": []
  }
 ],
 "metadata": {
  "interpreter": {
   "hash": "8ae6e8347844ce31cefbfab1c46c85d6003d3a1108122483edd0f60efc9feef7"
  },
  "kernelspec": {
   "display_name": "Python 3.9.7 64-bit (conda)",
   "language": "python",
   "name": "python3"
  },
  "language_info": {
   "codemirror_mode": {
    "name": "ipython",
    "version": 3
   },
   "file_extension": ".py",
   "mimetype": "text/x-python",
   "name": "python",
   "nbconvert_exporter": "python",
   "pygments_lexer": "ipython3",
   "version": "3.9.7"
  },
  "orig_nbformat": 4
 },
 "nbformat": 4,
 "nbformat_minor": 2
}
