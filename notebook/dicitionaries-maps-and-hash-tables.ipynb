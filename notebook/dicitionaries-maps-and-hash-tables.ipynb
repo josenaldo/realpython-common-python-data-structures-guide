{
 "cells": [
  {
   "cell_type": "markdown",
   "metadata": {},
   "source": [
    "# Common Python Data Structures (Guide)\n",
    "\n",
    "[https://realpython.com/python-data-structures/](https://realpython.com/python-data-structures/)"
   ]
  },
  {
   "cell_type": "markdown",
   "metadata": {},
   "source": [
    "Neste tutorial, você aprenderá:\n",
    "\n",
    "- Quais tipos de dados abstratos comuns são integrados à biblioteca padrão do Python\n",
    "- Como os tipos de dados abstratos mais comuns são mapeados para o esquema de nomenclatura do Python\n",
    "- Como colocar tipos de dados abstratos em uso prático em vários algoritmos"
   ]
  },
  {
   "cell_type": "markdown",
   "metadata": {},
   "source": [
    "## Dictionaries, Maps and Hash Tables\n",
    "\n",
    "[https://realpython.com/python-data-structures/#dictionaries-maps-and-hash-tables](https://realpython.com/python-data-structures/#dictionaries-maps-and-hash-tables)"
   ]
  },
  {
   "cell_type": "markdown",
   "metadata": {},
   "source": [
    "Dicionários (ou `dicts`) são estruturas de dados que armazenam um número arbitrário de objetos, cada um deles associado a um identificador único, uma chave (key).\n",
    "\n",
    "Os dicionários também são chamados de mapas, hashmaps, hookup tables ou associative arrays. Eles permitem a pesquisa, inserção e exclusão eficientes de qualquer objeto associado a uma determinada chave.\n",
    "\n",
    "Uma analogia com o mundo real são as agendas de telefone. Você não sai olhando a agenda inteira, do início, para achar um telefone. Você, a partir do nome (a chave) da pessoa ou empresa, vai direto no nome dela e obtém o número.\n",
    "\n",
    "Os dicionários, portanto, tem como característica uma performance de pesquisa, inserção e remoção muito maior que outras estruturas de dados como listas e vetores.\n",
    "\n",
    "Dicionáris são estruturas de dados muito importantes e usadas com bastante frequências."
   ]
  },
  {
   "cell_type": "markdown",
   "metadata": {},
   "source": [
    "### `dict`: Seu dicionário do dia a dia"
   ]
  },
  {
   "cell_type": "markdown",
   "metadata": {},
   "source": [
    "Dicionários são tão importantes que o Python mantém uma implementação padrão, bastante robusta, diretamente no núcleo da linguagem, o tipo de dado `dict`.\n",
    "\n",
    "Python define 3 maneiras de se criar um dicionário:\n",
    "    - Usando a função `dict()`\n",
    "    - Usando os literais de dicionários, com chaves `{}`\n",
    "    - Usando dict comprehentions"
   ]
  },
  {
   "cell_type": "code",
   "execution_count": 1,
   "metadata": {},
   "outputs": [
    {
     "data": {
      "text/plain": [
       "{'maria': '11-11111-1111', 'pedro': '22-22222-2222', 'joao': '33-33333-3333'}"
      ]
     },
     "execution_count": 1,
     "metadata": {},
     "output_type": "execute_result"
    }
   ],
   "source": [
    "# Criando um dicionário usando a função dict()\n",
    "agenda_dict = dict()\n",
    "agenda_dict['maria'] = '11-11111-1111'\n",
    "agenda_dict['pedro'] = '22-22222-2222'\n",
    "agenda_dict['joao'] = '33-33333-3333'\n",
    "agenda_dict"
   ]
  },
  {
   "cell_type": "code",
   "execution_count": 2,
   "metadata": {},
   "outputs": [
    {
     "data": {
      "text/plain": [
       "{'alice': '44-44444-4444', 'mário': '55-55555-5555', 'joão': '66-66666-6666'}"
      ]
     },
     "execution_count": 2,
     "metadata": {},
     "output_type": "execute_result"
    }
   ],
   "source": [
    "# criando um dicionário usando um literal\n",
    "agenda_literal = {\n",
    "    \"alice\": '44-44444-4444',\n",
    "    \"mário\": '55-55555-5555',\n",
    "    \"joão\": '66-66666-6666',\n",
    "}\n",
    "agenda_literal"
   ]
  },
  {
   "cell_type": "code",
   "execution_count": 3,
   "metadata": {},
   "outputs": [
    {
     "data": {
      "text/plain": [
       "{'ciro': '77-77777-77', 'mula': '88-88888-8888', 'bozo': '99-99999-9999'}"
      ]
     },
     "execution_count": 3,
     "metadata": {},
     "output_type": "execute_result"
    }
   ],
   "source": [
    "# Criando um dicionário usando um dict comprehension\n",
    "nomes = ['ciro', 'mula', 'bozo']\n",
    "numeros = ['77-77777-77', '88-88888-8888', '99-99999-9999']\n",
    "\n",
    "agenda_comprehension = {chave: valor for chave, valor in zip(nomes, numeros)}\n",
    "agenda_comprehension"
   ]
  },
  {
   "cell_type": "markdown",
   "metadata": {},
   "source": [
    "Para acessar um dicionário, você usa a sintaxe índice, passando a chave buscada entre colchetes."
   ]
  },
  {
   "cell_type": "code",
   "execution_count": 4,
   "metadata": {},
   "outputs": [
    {
     "name": "stdout",
     "output_type": "stream",
     "text": [
      "11-11111-1111\n",
      "44-44444-4444\n",
      "77-77777-77\n"
     ]
    }
   ],
   "source": [
    "print(agenda_dict[\"maria\"])\n",
    "print(agenda_literal[\"alice\"])\n",
    "print(agenda_comprehension[\"ciro\"])"
   ]
  },
  {
   "cell_type": "markdown",
   "metadata": {},
   "source": [
    "Existem algumas restrições sobre os objetos que podem ser usados ​​como chaves válidas.\n",
    "\n",
    "Os dicionários do Python são indexados por chaves que podem ser de qualquer tipo *hashable*. Um objeto *hashable* tem um valor *hash* que nunca muda durante seu tempo de vida (consulte `__hash__`) e pode ser comparado a outros objetos (consulte `__eq__`).\n",
    "\n",
    "Tipos imutáveis, como strings e números, são *hashables* e, portanto, ótimos candidatos a chave. Também podemos usar tuplas como chaves, desde que elas contenham apenas objetos *hashables*."
   ]
  },
  {
   "cell_type": "markdown",
   "metadata": {},
   "source": [
    "Python forcene uma implementação padrão bastante robusta para dicionários, mas você pode usar qualquer outra implementação de dicionário que você desejar. Além da implementação padrão, Python também oferece algums implementações especializadas, para dicionários mais específicos."
   ]
  },
  {
   "cell_type": "markdown",
   "metadata": {},
   "source": [
    "### `collections.OrderedDict`: Lembre-se da ordem de inserção das chaves"
   ]
  },
  {
   "cell_type": "markdown",
   "metadata": {},
   "source": [
    "O dicionário padrão mantém as ordens de inserção das chaves, mas isso é meramente um efeito colateral de sua implementação, não sendo definido na especificação. Desse moto, se precisamos garantir a ordem de de inserção das chaves, devemos usar o `collections.OrderedDict`.\n",
    "\n",
    "Como ele não é uma implementação built-in, você precisa importar a classe `OrderedDict`."
   ]
  },
  {
   "cell_type": "code",
   "execution_count": 5,
   "metadata": {},
   "outputs": [
    {
     "name": "stdout",
     "output_type": "stream",
     "text": [
      "OrderedDict([('one', 1), ('two', 2), ('three', 3)])\n"
     ]
    }
   ],
   "source": [
    "import collections  # noqa E402\n",
    "\n",
    "d = collections.OrderedDict(one=1, two=2, three=3)\n",
    "print(d)"
   ]
  },
  {
   "cell_type": "code",
   "execution_count": 6,
   "metadata": {},
   "outputs": [
    {
     "data": {
      "text/plain": [
       "OrderedDict([('one', 1), ('two', 2), ('three', 3), ('four', 4)])"
      ]
     },
     "execution_count": 6,
     "metadata": {},
     "output_type": "execute_result"
    }
   ],
   "source": [
    "d[\"four\"] = 4\n",
    "d"
   ]
  },
  {
   "cell_type": "code",
   "execution_count": 7,
   "metadata": {},
   "outputs": [
    {
     "data": {
      "text/plain": [
       "odict_keys(['one', 'two', 'three', 'four'])"
      ]
     },
     "execution_count": 7,
     "metadata": {},
     "output_type": "execute_result"
    }
   ],
   "source": [
    "d.keys()"
   ]
  },
  {
   "cell_type": "markdown",
   "metadata": {},
   "source": [
    "Até o Python 3.8, você não podia iterar sobre itens de dicionário em ordem inversa usando `reversed()`. Apenas as instâncias de `OrderedDict` ofereciam essa funcionalidade. Mesmo no Python 3.8, objetos `dict` e `OrderedDict` não são exatamente a mesma coisa.\n",
    "\n",
    "A classe `OrderedDict` possui um método `.move_to_end()`, que não está disponível na classe `dict`. Ela também tem um método `.popitem()` mais customizável que o `.popitem()` da classe `dict`."
   ]
  },
  {
   "cell_type": "markdown",
   "metadata": {},
   "source": [
    "### `collections.defaultdict`: Retornar valores padrão para chaves ausentes"
   ]
  },
  {
   "cell_type": "markdown",
   "metadata": {},
   "source": [
    "A classe `defaultdict` é outra subclasse de dicionário que aceita um `callable` em seu construtor cujo valor de retorno será usado se uma chave solicitada não puder ser encontrada.\n",
    "\n",
    "Isso pode economizar alguma digitação e tornar suas intenções mais claras em comparação com o método `get()` ou pegando uma exceção `KeyError` em dicionários regulares."
   ]
  },
  {
   "cell_type": "code",
   "execution_count": 8,
   "metadata": {},
   "outputs": [
    {
     "name": "stdout",
     "output_type": "stream",
     "text": [
      "defaultdict(<class 'list'>, {'dogs': ['Rufus', 'Spike', 'Mr Sniffles'], 'cats': ['Sophie']})\n",
      "['Rufus', 'Spike', 'Mr Sniffles']\n",
      "['Sophie']\n"
     ]
    }
   ],
   "source": [
    "from collections import defaultdict  # noqa E402\n",
    "\n",
    "dd = defaultdict(list)\n",
    "\n",
    "# Acessar uma chave ausente a cria e inicializa usando a fábrica padrão,\n",
    "# isto é, a list() neste exemplo:\n",
    "dd[\"dogs\"].append(\"Rufus\")\n",
    "dd[\"dogs\"].append(\"Spike\")\n",
    "dd[\"cats\"].append(\"Sophie\")\n",
    "dd[\"dogs\"].append(\"Mr Sniffles\")\n",
    "\n",
    "print(dd)\n",
    "print(dd[\"dogs\"])\n",
    "print(dd[\"cats\"])"
   ]
  },
  {
   "cell_type": "markdown",
   "metadata": {},
   "source": [
    "### `collections.ChainMap`: Pesquise múltiplos dicionários como um único mapeamento"
   ]
  },
  {
   "cell_type": "markdown",
   "metadata": {},
   "source": [
    "A estrutura de dados `collections.ChainMap` agrupa múltiplos dicionários em um único mapeamento. A busca procura nos mapeamentos subjacentes, um por um, até que uma chave seja encontrada. Inserções, atualizações e exclusões afetam apenas o primeiro mapeamento adicionado à cadeia:"
   ]
  },
  {
   "cell_type": "code",
   "execution_count": 9,
   "metadata": {},
   "outputs": [
    {
     "data": {
      "text/plain": [
       "ChainMap({'a': 1, 'b': 2}, {'c': 3, 'd': 4})"
      ]
     },
     "execution_count": 9,
     "metadata": {},
     "output_type": "execute_result"
    }
   ],
   "source": [
    "from collections import ChainMap  # noqa E402\n",
    "\n",
    "dict1 = {\"a\": 1, \"b\": 2}\n",
    "dict2 = {\"c\": 3, \"d\": 4}\n",
    "chain = ChainMap(dict1, dict2)\n",
    "\n",
    "chain"
   ]
  },
  {
   "cell_type": "code",
   "execution_count": 10,
   "metadata": {},
   "outputs": [
    {
     "data": {
      "text/plain": [
       "1"
      ]
     },
     "execution_count": 10,
     "metadata": {},
     "output_type": "execute_result"
    }
   ],
   "source": [
    "chain[\"a\"]"
   ]
  },
  {
   "cell_type": "code",
   "execution_count": 11,
   "metadata": {},
   "outputs": [
    {
     "data": {
      "text/plain": [
       "3"
      ]
     },
     "execution_count": 11,
     "metadata": {},
     "output_type": "execute_result"
    }
   ],
   "source": [
    "chain[\"c\"]"
   ]
  },
  {
   "cell_type": "code",
   "execution_count": 12,
   "metadata": {},
   "outputs": [
    {
     "name": "stderr",
     "output_type": "stream",
     "text": [
      "Traceback (most recent call last):\n",
      "  File \"C:\\Users\\josen\\AppData\\Local\\Temp/ipykernel_15724/528609166.py\", line 4, in <module>\n",
      "    chain[\"e\"]\n",
      "  File \"E:\\repositorios\\alura\\.venv\\lib\\collections\\__init__.py\", line 941, in __getitem__\n",
      "    return self.__missing__(key)            # support subclasses that define __missing__\n",
      "  File \"E:\\repositorios\\alura\\.venv\\lib\\collections\\__init__.py\", line 933, in __missing__\n",
      "    raise KeyError(key)\n",
      "KeyError: 'e'\n"
     ]
    }
   ],
   "source": [
    "import traceback  # noqa E402\n",
    "\n",
    "try:\n",
    "    chain[\"e\"]\n",
    "except KeyError:\n",
    "    traceback.print_exc()"
   ]
  },
  {
   "cell_type": "markdown",
   "metadata": {},
   "source": [
    "### `types.MappingProxyType`: Um wrapper para fazer dicionários somente leitura"
   ]
  },
  {
   "cell_type": "markdown",
   "metadata": {},
   "source": [
    "O `MappingProxyType` é um wreapper ao redor do dicionário padrão, que provê uma interface somente para leitura aos dados do dicionário. Essa classe foi adicionada no Python 3.3 e pode ser usada pra criar uma versão proxy imutável de dicionários.\n",
    "\n",
    "`MappingProxyType` pode ser útil se, por exemplo, você quer retornar um dicionário que carrega o estado interno de uma classe ou modulo, enquanto desoncoraja acesssos de escrita a esse objeto. Usar o `MappingProxyType` é mais eficiente que usar uma cópia de um dicionário, e ainda permite que você possa colocar as restrições necessárias."
   ]
  },
  {
   "cell_type": "code",
   "execution_count": 13,
   "metadata": {},
   "outputs": [
    {
     "data": {
      "text/plain": [
       "1"
      ]
     },
     "execution_count": 13,
     "metadata": {},
     "output_type": "execute_result"
    }
   ],
   "source": [
    "from types import MappingProxyType  # noqa E402\n",
    "\n",
    "gravavel = {'a': 1, 'b': 2}\n",
    "somente_leitura = MappingProxyType(gravavel)\n",
    "\n",
    "somente_leitura['a']"
   ]
  },
  {
   "cell_type": "code",
   "execution_count": 14,
   "metadata": {},
   "outputs": [
    {
     "name": "stderr",
     "output_type": "stream",
     "text": [
      "Traceback (most recent call last):\n",
      "  File \"C:\\Users\\josen\\AppData\\Local\\Temp/ipykernel_15724/1520983300.py\", line 4, in <module>\n",
      "    somente_leitura['a'] = 3\n",
      "TypeError: 'mappingproxy' object does not support item assignment\n"
     ]
    }
   ],
   "source": [
    "import traceback  # noqa E402\n",
    "\n",
    "try:\n",
    "    somente_leitura['a'] = 3\n",
    "except TypeError:\n",
    "    traceback.print_exc()"
   ]
  },
  {
   "cell_type": "code",
   "execution_count": 15,
   "metadata": {},
   "outputs": [
    {
     "data": {
      "text/plain": [
       "mappingproxy({'a': 4, 'b': 2})"
      ]
     },
     "execution_count": 15,
     "metadata": {},
     "output_type": "execute_result"
    }
   ],
   "source": [
    "# alteraçoes no dicionário original se refletem no proxy\n",
    "gravavel['a'] = 4\n",
    "somente_leitura"
   ]
  },
  {
   "cell_type": "markdown",
   "metadata": {},
   "source": [
    "### Dicionários em Python: Resumo"
   ]
  },
  {
   "cell_type": "markdown",
   "metadata": {},
   "source": [
    "Todas essas implementações estão presentes a biblioteca padrão do Python. Se possível, use o dicionário padrão. Além de ser bastante versátil e bem otimizado, seu código será mais limpo. Porém, em caso de requisitos especiais, não hesite em usar os dicionários especiais.\n",
    "\n",
    "Nesse capítulo, nós vemos:\n",
    "\n",
    "- dict: Dicionário padrão\n",
    "- collections.OrderedDict: Dicionário que mantém a ordem de inserção das chaves\n",
    "- collections.defaultdict: Dicionário que retorna um valor padrão para chaves ausentes\n",
    "- collections.ChainMap: Dicionário que agrupa múltiplos dicionários em um único mapeamento\n",
    "- types.MappingProxyType: Wrapper para dicionários somente leitura"
   ]
  }
 ],
 "metadata": {
  "interpreter": {
   "hash": "8ae6e8347844ce31cefbfab1c46c85d6003d3a1108122483edd0f60efc9feef7"
  },
  "kernelspec": {
   "display_name": "Python 3.9.7 64-bit (conda)",
   "name": "python3"
  },
  "language_info": {
   "codemirror_mode": {
    "name": "ipython",
    "version": 3
   },
   "file_extension": ".py",
   "mimetype": "text/x-python",
   "name": "python",
   "nbconvert_exporter": "python",
   "pygments_lexer": "ipython3",
   "version": "3.9.7"
  },
  "orig_nbformat": 4
 },
 "nbformat": 4,
 "nbformat_minor": 2
}
