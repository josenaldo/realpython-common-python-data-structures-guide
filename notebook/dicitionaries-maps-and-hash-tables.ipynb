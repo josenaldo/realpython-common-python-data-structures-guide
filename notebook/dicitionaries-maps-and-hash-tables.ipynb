{
 "cells": [
  {
   "cell_type": "markdown",
   "metadata": {},
   "source": [
    "# Common Python Data Structures (Guide)\n",
    "*Computers execute code, but humans read code*\n",
    "\n",
    "[https://realpython.com/python-data-structures/](https://realpython.com/python-data-structures/)"
   ]
  },
  {
   "cell_type": "markdown",
   "metadata": {},
   "source": [
    "Neste tutorial, você aprenderá:\n",
    "\n",
    "- Quais tipos de dados abstratos comuns são integrados à biblioteca padrão do Python\n",
    "- Como os tipos de dados abstratos mais comuns são mapeados para o esquema de nomenclatura do Python\n",
    "- Como colocar tipos de dados abstratos em uso prático em vários algoritmos"
   ]
  },
  {
   "cell_type": "markdown",
   "metadata": {},
   "source": [
    "## Dictionaries, Maps and Hash Tables"
   ]
  },
  {
   "cell_type": "markdown",
   "metadata": {},
   "source": [
    "Dicionários (ou dicts) são estruturas de dados que armazenam um número arbitrário de objetos, cada um deles associado a um identificador único, uma chave (key).\n",
    "\n",
    "Os dicionários também são chamados de mapas, hashmaps, hookup tables ou associative arrays. Eles permitem a pesquisa, inserção e exclusão eficientes de qualquer objeto associado a uma determinada chave.\n",
    "\n",
    "Uma analogia com o mundo real são as agendas de telefone. Você não sai olhando a agenda inteira, do início, para achar um telefone. Você, a partir do nome (a chave) da pessoa ou empresa, vai direto no nome dela e obtém o número.\n",
    "\n",
    "Os dicionários, portanto, tem como característica uma performance de pesquisa, inserção e remoção muito maior que outras estruturas de dados como listas e vetores.\n",
    "\n",
    "Dicionáris são estruturas de dados muito importantes e usadas com bastante frequências."
   ]
  },
  {
   "cell_type": "markdown",
   "metadata": {},
   "source": [
    "### dict: Seu dicionário do dia a dia"
   ]
  },
  {
   "cell_type": "markdown",
   "metadata": {},
   "source": [
    "Dicionários são tão importantes que o Python mantém uma implementação padrão, bastante robusta, diretamente no núcleo da linguagem."
   ]
  }
 ],
 "metadata": {
  "interpreter": {
   "hash": "8ae6e8347844ce31cefbfab1c46c85d6003d3a1108122483edd0f60efc9feef7"
  },
  "kernelspec": {
   "display_name": "Python 3.9.7 64-bit (conda)",
   "name": "python3"
  },
  "language_info": {
   "codemirror_mode": {
    "name": "ipython",
    "version": 3
   },
   "file_extension": ".py",
   "mimetype": "text/x-python",
   "name": "python",
   "nbconvert_exporter": "python",
   "pygments_lexer": "ipython3",
   "version": "3.9.7"
  },
  "orig_nbformat": 4
 },
 "nbformat": 4,
 "nbformat_minor": 2
}
