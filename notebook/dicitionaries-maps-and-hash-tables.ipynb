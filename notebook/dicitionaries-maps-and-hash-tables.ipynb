{
 "cells": [
  {
   "cell_type": "markdown",
   "metadata": {},
   "source": [
    "# Common Python Data Structures (Guide)\n",
    "*Computers execute code, but humans read code*\n",
    "\n",
    "[https://realpython.com/python-data-structures/](https://realpython.com/python-data-structures/)"
   ]
  },
  {
   "cell_type": "markdown",
   "metadata": {},
   "source": [
    "Neste tutorial, você aprenderá:\n",
    "\n",
    "- Quais tipos de dados abstratos comuns são integrados à biblioteca padrão do Python\n",
    "- Como os tipos de dados abstratos mais comuns são mapeados para o esquema de nomenclatura do Python\n",
    "- Como colocar tipos de dados abstratos em uso prático em vários algoritmos"
   ]
  },
  {
   "cell_type": "markdown",
   "metadata": {},
   "source": [
    "## Dictionaries, Maps and Hash Tables"
   ]
  },
  {
   "cell_type": "markdown",
   "metadata": {},
   "source": [
    "Dicionários (ou dicts) são estruturas de dados que armazenam um número arbitrário de objetos, cada um deles associado a um identificador único, uma chave (key).\n",
    "\n",
    "Os dicionários também são chamados de mapas, hashmaps, hookup tables ou associative arrays. Eles permitem a pesquisa, inserção e exclusão eficientes de qualquer objeto associado a uma determinada chave.\n",
    "\n",
    "Uma analogia com o mundo real são as agendas de telefone. Você não sai olhando a agenda inteira, do início, para achar um telefone. Você, a partir do nome (a chave) da pessoa ou empresa, vai direto no nome dela e obtém o número.\n",
    "\n",
    "Os dicionários, portanto, tem como característica uma performance de pesquisa, inserção e remoção muito maior que outras estruturas de dados como listas e vetores.\n",
    "\n",
    "Dicionáris são estruturas de dados muito importantes e usadas com bastante frequências."
   ]
  },
  {
   "cell_type": "markdown",
   "metadata": {},
   "source": [
    "### dict: Seu dicionário do dia a dia"
   ]
  },
  {
   "cell_type": "markdown",
   "metadata": {},
   "source": [
    "Dicionários são tão importantes que o Python mantém uma implementação padrão, bastante robusta, diretamente no núcleo da linguagem, o tipo de dado `dict`.\n",
    "\n",
    "Python define 3 maneiras de se criar um dicionário:\n",
    "    - Usando a função `dict()`\n",
    "    - Usando os literais de dicionários, com chaves `{}`\n",
    "    - Usando dict comprehentions"
   ]
  },
  {
   "cell_type": "code",
   "execution_count": 4,
   "metadata": {},
   "outputs": [
    {
     "data": {
      "text/plain": [
       "{'maria': '11-11111-1111', 'pedro': '22-22222-2222', 'joao': '33-33333-3333'}"
      ]
     },
     "execution_count": 4,
     "metadata": {},
     "output_type": "execute_result"
    }
   ],
   "source": [
    "# Criando um dicionário usando a função dict()\n",
    "agenda_dict = dict()\n",
    "agenda_dict['maria'] = '11-11111-1111'\n",
    "agenda_dict['pedro'] = '22-22222-2222'\n",
    "agenda_dict['joao'] = '33-33333-3333'\n",
    "agenda_dict"
   ]
  },
  {
   "cell_type": "code",
   "execution_count": 5,
   "metadata": {},
   "outputs": [
    {
     "data": {
      "text/plain": [
       "{'alice': '44-44444-4444', 'mário': '55-55555-5555', 'joão': '66-66666-6666'}"
      ]
     },
     "execution_count": 5,
     "metadata": {},
     "output_type": "execute_result"
    }
   ],
   "source": [
    "# criando um dicionário usando um literal\n",
    "agenda_literal = {\n",
    "    \"alice\": '44-44444-4444',\n",
    "    \"mário\": '55-55555-5555',\n",
    "    \"joão\": '66-66666-6666',\n",
    "}\n",
    "agenda_literal"
   ]
  },
  {
   "cell_type": "code",
   "execution_count": 6,
   "metadata": {},
   "outputs": [
    {
     "data": {
      "text/plain": [
       "{'ciro': '77-77777-77', 'mula': '88-88888-8888', 'bozo': '99-99999-9999'}"
      ]
     },
     "execution_count": 6,
     "metadata": {},
     "output_type": "execute_result"
    }
   ],
   "source": [
    "# Criando um dicionário usando um dict comprehension\n",
    "nomes = ['ciro', 'mula', 'bozo']\n",
    "numeros = ['77-77777-77', '88-88888-8888', '99-99999-9999']\n",
    "\n",
    "agenda_comprehension = {chave: valor for chave, valor in zip(nomes, numeros)}\n",
    "agenda_comprehension"
   ]
  },
  {
   "cell_type": "markdown",
   "metadata": {},
   "source": [
    "Existem algumas restrições sobre os objetos que podem ser usados ​​como chaves válidas.\n",
    "\n",
    "Os dicionários do Python são indexados por chaves que podem ser de qualquer tipo *hashable*. Um objeto *hashable* tem um valor *hash* que nunca muda durante seu tempo de vida (consulte `__hash__`) e pode ser comparado a outros objetos (consulte `__eq__`)."
   ]
  },
  {
   "cell_type": "code",
   "execution_count": null,
   "metadata": {},
   "outputs": [],
   "source": []
  },
  {
   "cell_type": "code",
   "execution_count": null,
   "metadata": {},
   "outputs": [],
   "source": []
  }
 ],
 "metadata": {
  "interpreter": {
   "hash": "8ae6e8347844ce31cefbfab1c46c85d6003d3a1108122483edd0f60efc9feef7"
  },
  "kernelspec": {
   "display_name": "Python 3.9.7 64-bit (conda)",
   "name": "python3"
  },
  "language_info": {
   "codemirror_mode": {
    "name": "ipython",
    "version": 3
   },
   "file_extension": ".py",
   "mimetype": "text/x-python",
   "name": "python",
   "nbconvert_exporter": "python",
   "pygments_lexer": "ipython3",
   "version": "3.9.7"
  },
  "orig_nbformat": 4
 },
 "nbformat": 4,
 "nbformat_minor": 2
}
