{
 "cells": [
  {
   "cell_type": "markdown",
   "metadata": {},
   "source": [
    "# Common Python Data Structures (Guide)\n",
    "\n",
    "[https://realpython.com/python-data-structures/](https://realpython.com/python-data-structures/)"
   ]
  },
  {
   "cell_type": "markdown",
   "metadata": {},
   "source": [
    "Neste tutorial, você aprenderá:\n",
    "\n",
    "- Quais tipos de dados abstratos comuns são integrados à biblioteca padrão do Python\n",
    "- Como os tipos de dados abstratos mais comuns são mapeados para o esquema de nomenclatura do Python\n",
    "- Como colocar tipos de dados abstratos em uso prático em vários algoritmos"
   ]
  },
  {
   "cell_type": "markdown",
   "metadata": {},
   "source": [
    "## Queues(FIFO - First In, First Out) - Filas(Primeiro a Entrar, Primeiro a Sair)\n",
    "\n",
    "[https://realpython.com/python-data-structures/#queues-fifos](https://realpython.com/python-data-structures/#queues-fifos)\n"
   ]
  },
  {
   "cell_type": "markdown",
   "metadata": {},
   "source": [
    "Nesta seção, você verá como implementar uma estrutura de dados do tipo fila (First-in/First-out (FIFO) - Primeiro a Entrar/Primeiro a Sair) usando apenas tipos de dados built-ins e classes da biblioteca padrão do Python.\n",
    "\n",
    "Uma fila é uma coleção de objetos que suporta inserções e exclusões seguindo a regra **\"Primeiro-a-Entrar/Primeiro-a-Sair\"** (em inglês **\"Last-In/First-Out\"** ou **LIFO** ). As operações inserção e exclusão são chamadas de `enqueue` e `dequeue`. Ao contrário das listas ou arrays, as filas normalmente não permitem acesso aleatório aos objetos que contêm.\n",
    "\n",
    "Aqui está uma analogia do mundo real para uma fila FIFO:\n",
    "\n",
    "Imagine uma linha de Pythonistas esperando para pegar seus crachás, no dia de registro na PyCon. À medida que novas pessoas entram no local de conferência,  elas se juntam à linha (`enqueue`) pela parte de trás da linha. Os desenvolvedores recebem seus crachás, e material do evento, e depois saem da linha (`dequeue`) pela parte da frente da linha. Essa linha é a **fila**.\n",
    "\n",
    "Outra maneira de memorizar as características de uma estrutura de dados fila é pensar nisso como um tubo. Você adiciona bolas de pingue-pongue a uma extremidade, e eles viajam para o outro lado, onde você os remove. Enquanto as bolas estão na fila (um tubo de metal sólido), você não acesso a elas. A única maneira de interagir com as bolas na fila é adicionar novas, na parte de trás do tubo (`enqueue`), ou removê-las pela frente (`dequeue`).\n",
    "\n",
    "Filas são semelhantes às pilhas. A diferença entre elas está em como os itens são removidos. Com uma fila, você remove o item menos recentemente adicionado (FIFO), mas com uma pilha, remove o item mais recentemente adicionado (LIFO).\n",
    "\n",
    "Sob o ponto de vista da performance, espera-se que uma implementação adequada  de fila leve o tempo O(1) para inserção e exclusão. Estas são as duas principais operações realizadas em uma fila e, em uma implementação correta, elas devem ser rápidas.\n",
    "\n",
    "As filas têm uma ampla gama de aplicações em algoritmos e, muitas vezes, ajudam a resolver problemas de agendamento e programação paralela. Um algoritmo curto e elegante, usando uma fila, é a busca em profundidade (Breadth-First Search - BFS) em uma árvore ou grafo.\n",
    "\n",
    "Os algoritmos de agendamento geralmente usam filas prioritárias internamente.Estas são filas especializadas. Em vez de recuperar o próximo elemento pelo tempo de inserção, uma fila de prioridade recupera o elemento de prioridade mais alto. A prioridade dos elementos individuais é decidida pela fila com base na ordenação aplicada às suas chaves.\n",
    "\n",
    "Uma fila normal, no entanto, não reordenará os itens que você carrega. Assim como no exemplo do tubo, você obtém, na saída, o que colocou na entrada. E exatamente na mesma ordem.\n",
    "\n",
    "Python já vem com várias implementações de filas, com cada uma tendo características ligeiramente diferentes. Vamos revisá-las."
   ]
  },
  {
   "cell_type": "markdown",
   "metadata": {},
   "source": [
    "### `list`: Filas terrivelmente lentas"
   ]
  },
  {
   "cell_type": "markdown",
   "metadata": {},
   "source": [
    "É possível usar uma lista normal como uma fila, mas isso não é ideal. O desempenho é sofrível. As listas são bastante lentas para essa finalidade, porque inserir ou excluir um elemento no início requer mudar todos os outros elementos, um por um, exigindo o tempo de `O(n)`.\n",
    "\n",
    "Portanto, eu não recomendaria usar uma lista como uma fila improvisada em Python, a menos que você esteja lidando apenas com um pequeno número de elementos."
   ]
  },
  {
   "cell_type": "code",
   "execution_count": 1,
   "metadata": {},
   "outputs": [
    {
     "data": {
      "text/plain": [
       "['eat', 'sleep', 'code']"
      ]
     },
     "execution_count": 1,
     "metadata": {},
     "output_type": "execute_result"
    }
   ],
   "source": [
    "q = []\n",
    "q.append(\"eat\")\n",
    "q.append(\"sleep\")\n",
    "q.append(\"code\")\n",
    "\n",
    "q"
   ]
  },
  {
   "cell_type": "code",
   "execution_count": 2,
   "metadata": {},
   "outputs": [
    {
     "data": {
      "text/plain": [
       "'eat'"
      ]
     },
     "execution_count": 2,
     "metadata": {},
     "output_type": "execute_result"
    }
   ],
   "source": [
    "# Cuidado! Isso é muito lento!\n",
    "q.pop(0)"
   ]
  },
  {
   "cell_type": "markdown",
   "metadata": {},
   "source": [
    "### `collections.deque`: Filas rápidas e robustas"
   ]
  },
  {
   "cell_type": "markdown",
   "metadata": {},
   "source": [
    "A classe `deque` implementa uma fila dupla, que suporta a inserção e a remoção elementos, das duas extremidade, em tempo `O(1)` (não amortizado). Como os deques suportam adição e remoção a partir das duas extremidades, com o mesmo desempenho, eles podem servir tanto como filas quanto como pilhas.\n",
    "\n",
    "Os objetos `deque` são implementados como listas duplamente encadeadas. Por isso, eles apresentam um desempenho excelente e consistente para inserção e exclusão de elementos, mas o desempenho ruim, de tempo `O(n)`, para acessar aleatoriamente elementos no meio do `deque`.\n",
    "\n",
    "Como resultado, a classe `collections.deque` é uma ótima opção padrão, caso  você esteja procurando por uma estrutura de dados de fila na biblioteca padrão do Python."
   ]
  },
  {
   "cell_type": "code",
   "execution_count": 3,
   "metadata": {},
   "outputs": [
    {
     "data": {
      "text/plain": [
       "deque(['eat', 'sleep', 'code'])"
      ]
     },
     "execution_count": 3,
     "metadata": {},
     "output_type": "execute_result"
    }
   ],
   "source": [
    "from collections import deque  # noqa E402\n",
    "\n",
    "\n",
    "q = deque()\n",
    "q.append(\"eat\")\n",
    "q.append(\"sleep\")\n",
    "q.append(\"code\")\n",
    "\n",
    "q"
   ]
  },
  {
   "cell_type": "code",
   "execution_count": 4,
   "metadata": {},
   "outputs": [
    {
     "data": {
      "text/plain": [
       "'eat'"
      ]
     },
     "execution_count": 4,
     "metadata": {},
     "output_type": "execute_result"
    }
   ],
   "source": [
    "q.popleft()"
   ]
  },
  {
   "cell_type": "code",
   "execution_count": 5,
   "metadata": {},
   "outputs": [
    {
     "data": {
      "text/plain": [
       "'sleep'"
      ]
     },
     "execution_count": 5,
     "metadata": {},
     "output_type": "execute_result"
    }
   ],
   "source": [
    "q.popleft()"
   ]
  },
  {
   "cell_type": "code",
   "execution_count": 6,
   "metadata": {},
   "outputs": [
    {
     "data": {
      "text/plain": [
       "'code'"
      ]
     },
     "execution_count": 6,
     "metadata": {},
     "output_type": "execute_result"
    }
   ],
   "source": [
    "q.popleft()"
   ]
  },
  {
   "cell_type": "code",
   "execution_count": 7,
   "metadata": {},
   "outputs": [
    {
     "name": "stderr",
     "output_type": "stream",
     "text": [
      "Traceback (most recent call last):\n",
      "  File \"C:\\Users\\josen\\AppData\\Local\\Temp/ipykernel_26672/3338166703.py\", line 4, in <module>\n",
      "    q.popleft()\n",
      "IndexError: pop from an empty deque\n"
     ]
    }
   ],
   "source": [
    "import traceback  # noqa E402\n",
    "\n",
    "try:\n",
    "    q.popleft()\n",
    "except IndexError:\n",
    "    traceback.print_exc()\n"
   ]
  },
  {
   "cell_type": "markdown",
   "metadata": {},
   "source": [
    "### `queue.Queue`: Semântica de bloqueio para computação paralela"
   ]
  },
  {
   "cell_type": "markdown",
   "metadata": {},
   "source": [
    "A implementação `queue.Queue`, na biblioteca padrão do Python, é sincronizada e fornece semântica de bloqueio para suportar vários produtores e consumidores simultâneos.\n",
    "\n",
    "O módulo `queue` contém várias outras classes que implementam filas multi-produtor e filas multi-consumidor que são úteis para computação paralela.\n",
    "\n",
    "Dependendo do seu caso de uso, a semântica de bloqueio pode ser útil ou apenas incorrer em um custo desnecessária. Nesse caso, você estaria melhor usando `collections.deque` como uma fila de propósito geral."
   ]
  },
  {
   "cell_type": "code",
   "execution_count": 8,
   "metadata": {},
   "outputs": [
    {
     "data": {
      "text/plain": [
       "<queue.Queue at 0x23d4083c640>"
      ]
     },
     "execution_count": 8,
     "metadata": {},
     "output_type": "execute_result"
    }
   ],
   "source": [
    "from queue import Queue  # noqa E402\n",
    "\n",
    "\n",
    "q = Queue()\n",
    "q.put(\"eat\")\n",
    "q.put(\"sleep\")\n",
    "q.put(\"code\")\n",
    "\n",
    "q"
   ]
  },
  {
   "cell_type": "code",
   "execution_count": 9,
   "metadata": {},
   "outputs": [
    {
     "data": {
      "text/plain": [
       "'eat'"
      ]
     },
     "execution_count": 9,
     "metadata": {},
     "output_type": "execute_result"
    }
   ],
   "source": [
    "q.get()"
   ]
  },
  {
   "cell_type": "code",
   "execution_count": 10,
   "metadata": {},
   "outputs": [
    {
     "data": {
      "text/plain": [
       "'sleep'"
      ]
     },
     "execution_count": 10,
     "metadata": {},
     "output_type": "execute_result"
    }
   ],
   "source": [
    "q.get()"
   ]
  },
  {
   "cell_type": "code",
   "execution_count": 11,
   "metadata": {},
   "outputs": [
    {
     "data": {
      "text/plain": [
       "'code'"
      ]
     },
     "execution_count": 11,
     "metadata": {},
     "output_type": "execute_result"
    }
   ],
   "source": [
    "q.get()"
   ]
  },
  {
   "cell_type": "code",
   "execution_count": 12,
   "metadata": {},
   "outputs": [
    {
     "name": "stderr",
     "output_type": "stream",
     "text": [
      "Traceback (most recent call last):\n",
      "  File \"C:\\Users\\josen\\AppData\\Local\\Temp/ipykernel_26672/3062632219.py\", line 5, in <module>\n",
      "    q.get_nowait()\n",
      "  File \"E:\\repositorios\\alura\\.venv\\lib\\queue.py\", line 199, in get_nowait\n",
      "    return self.get(block=False)\n",
      "  File \"E:\\repositorios\\alura\\.venv\\lib\\queue.py\", line 168, in get\n",
      "    raise Empty\n",
      "_queue.Empty\n"
     ]
    }
   ],
   "source": [
    "import traceback  # noqa E402\n",
    "from queue import Empty  # noqa E402\n",
    "\n",
    "try:\n",
    "    q.get_nowait()\n",
    "except Empty:\n",
    "    traceback.print_exc()\n"
   ]
  },
  {
   "cell_type": "code",
   "execution_count": 13,
   "metadata": {},
   "outputs": [],
   "source": [
    "# Cuidado. Um get, executado numa queue.Queue vazia, bloqueia o programa\n",
    "# indefinidamente, até que algum elemento seja inserido na queue.Queue.\n",
    "# Só descomente a linha abaixo para executar testes!\n",
    "# q.get()"
   ]
  },
  {
   "cell_type": "markdown",
   "metadata": {},
   "source": [
    "### `multiprocessing.Queue`: Filas de trabalho compartilhadas"
   ]
  },
  {
   "cell_type": "markdown",
   "metadata": {},
   "source": [
    "A classe `multiprocessing.Queue` é uma implementação de fila de trabalho compartilhada, que permite que os itens enfileirados sejam processados em paralelo, simultaneamente, por múltiplos trabalhadores. A paralelização baseada em processo é popular em CPython devido ao Bloqueio Global do Interpretador  (GIL), um mecanismo utilizado pelo interpretador CPython para garantir que apenas uma thread execute o bytecode Python por vez.\n",
    "\n",
    "Como uma implementação especializada de fila, criada para compartilhar dados entre os processos, a classe `multiprocessing.Queue` facilita a distribuição de trabalho em vários processos, a fim de contornar as limitações do GIL. Esse tipo de fila pode armazenar e transferir qualquer objeto serializável através das fronteiras entre os processos."
   ]
  },
  {
   "cell_type": "code",
   "execution_count": 14,
   "metadata": {},
   "outputs": [
    {
     "data": {
      "text/plain": [
       "<multiprocessing.queues.Queue at 0x23d40834c10>"
      ]
     },
     "execution_count": 14,
     "metadata": {},
     "output_type": "execute_result"
    }
   ],
   "source": [
    "from multiprocessing import Queue  # noqa E402\n",
    "\n",
    "\n",
    "q = Queue()\n",
    "q.put(\"eat\")\n",
    "q.put(\"sleep\")\n",
    "q.put(\"code\")\n",
    "\n",
    "q"
   ]
  },
  {
   "cell_type": "code",
   "execution_count": 15,
   "metadata": {},
   "outputs": [
    {
     "data": {
      "text/plain": [
       "'eat'"
      ]
     },
     "execution_count": 15,
     "metadata": {},
     "output_type": "execute_result"
    }
   ],
   "source": [
    "q.get()"
   ]
  },
  {
   "cell_type": "code",
   "execution_count": 16,
   "metadata": {},
   "outputs": [
    {
     "data": {
      "text/plain": [
       "'sleep'"
      ]
     },
     "execution_count": 16,
     "metadata": {},
     "output_type": "execute_result"
    }
   ],
   "source": [
    "q.get()"
   ]
  },
  {
   "cell_type": "code",
   "execution_count": 17,
   "metadata": {},
   "outputs": [
    {
     "data": {
      "text/plain": [
       "'code'"
      ]
     },
     "execution_count": 17,
     "metadata": {},
     "output_type": "execute_result"
    }
   ],
   "source": [
    "q.get()"
   ]
  },
  {
   "cell_type": "code",
   "execution_count": 18,
   "metadata": {},
   "outputs": [],
   "source": [
    "# Cuidado. Um get, executado numa multiprocessing.Queue vazia, bloqueia\n",
    "# o programa indefinidamente, até que algum elemento seja inserido na\n",
    "# multiprocessing.Queue.\n",
    "# Só descomente a linha abaixo para executar testes!\n",
    "# q.get()"
   ]
  },
  {
   "cell_type": "code",
   "execution_count": null,
   "metadata": {},
   "outputs": [],
   "source": []
  }
 ],
 "metadata": {
  "interpreter": {
   "hash": "8ae6e8347844ce31cefbfab1c46c85d6003d3a1108122483edd0f60efc9feef7"
  },
  "kernelspec": {
   "display_name": "Python 3.9.7 64-bit (conda)",
   "language": "python",
   "name": "python3"
  },
  "language_info": {
   "name": "python",
   "version": "3.9.7"
  },
  "orig_nbformat": 4
 },
 "nbformat": 4,
 "nbformat_minor": 2
}
