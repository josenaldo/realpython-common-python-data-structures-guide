{
 "cells": [
  {
   "cell_type": "markdown",
   "metadata": {},
   "source": [
    "# Common Python Data Structures (Guide)\n",
    "\n",
    "[https://realpython.com/python-data-structures/](https://realpython.com/python-data-structures/)"
   ]
  },
  {
   "cell_type": "markdown",
   "metadata": {},
   "source": [
    "Neste tutorial, você aprenderá:\n",
    "\n",
    "- Quais tipos de dados abstratos comuns são integrados à biblioteca padrão do Python\n",
    "- Como os tipos de dados abstratos mais comuns são mapeados para o esquema de nomenclatura do Python\n",
    "- Como colocar tipos de dados abstratos em uso prático em vários algoritmos"
   ]
  },
  {
   "cell_type": "markdown",
   "metadata": {},
   "source": [
    "## Queues(FIFO - First In, First Out) - Filas(Primeiro a Entrar, Primeiro a Sair)\n",
    "\n",
    "[https://realpython.com/python-data-structures/#queues-fifos](https://realpython.com/python-data-structures/#queues-fifos)\n"
   ]
  },
  {
   "cell_type": "markdown",
   "metadata": {},
   "source": [
    "Nesta seção, você verá como implementar uma estrutura de dados do tipo fila (First-in/First-out (FIFO) - Primeiro a Entrar/Primeiro a Sair) usando apenas tipos de dados built-ins e classes da biblioteca padrão do Python.\n",
    "\n",
    "Uma fila é uma coleção de objetos que suporta inserções e exclusões seguindo a regra **\"Primeiro-a-Entrar/Primeiro-a-Sair\"** (em inglês **\"Last-In/First-Out\"** ou **LIFO** ). As operações inserção e exclusão são chamadas de `enqueue` e `dequeue`. Ao contrário das listas ou arrays, as filas normalmente não permitem acesso aleatório aos objetos que contêm.\n",
    "\n",
    "Aqui está uma analogia do mundo real para uma fila FIFO:\n",
    "\n",
    "Imagine uma linha de Pythonistas esperando para pegar seus crachás, no dia de registro na PyCon. À medida que novas pessoas entram no local de conferência,  elas se juntam à linha (`enqueue`) pela parte de trás da linha. Os desenvolvedores recebem seus crachás, e material do evento, e depois saem da linha (`dequeue`) pela parte da frente da linha. Essa linha é a **fila**.\n",
    "\n",
    "Outra maneira de memorizar as características de uma estrutura de dados fila é pensar nisso como um tubo. Você adiciona bolas de pingue-pongue a uma extremidade, e eles viajam para o outro lado, onde você os remove. Enquanto as bolas estão na fila (um tubo de metal sólido), você não acesso a elas. A única maneira de interagir com as bolas na fila é adicionar novas, na parte de trás do tubo (`enqueue`), ou removê-las pela frente (`dequeue`).\n",
    "\n",
    "Filas são semelhantes às pilhas. A diferença entre elas está em como os itens são removidos. Com uma fila, você remove o item menos recentemente adicionado (FIFO), mas com uma pilha, remove o item mais recentemente adicionado (LIFO).\n",
    "\n",
    "Sob o ponto de vista da performance, espera-se que uma implementação adequada  de fila leve o tempo O(1) para inserção e exclusão. Estas são as duas principais operações realizadas em uma fila e, em uma implementação correta, elas devem ser rápidas.\n",
    "\n",
    "As filas têm uma ampla gama de aplicações em algoritmos e, muitas vezes, ajudam a resolver problemas de agendamento e programação paralela. Um algoritmo curto e elegante, usando uma fila, é a busca em profundidade (Breadth-First Search - BFS) em uma árvore ou grafo.\n",
    "\n",
    "Os algoritmos de agendamento geralmente usam filas prioritárias internamente.Estas são filas especializadas. Em vez de recuperar o próximo elemento pelo tempo de inserção, uma fila de prioridade recupera o elemento de prioridade mais alto. A prioridade dos elementos individuais é decidida pela fila com base na ordenação aplicada às suas chaves.\n",
    "\n",
    "Uma fila normal, no entanto, não reordenará os itens que você carrega. Assim como no exemplo do tubo, você obtém, na saída, o que colocou na entrada. E exatamente na mesma ordem.\n",
    "\n",
    "Python já vem com várias implementações de filas, com cada uma tendo características ligeiramente diferentes. Vamos revisá-las."
   ]
  },
  {
   "cell_type": "markdown",
   "metadata": {},
   "source": [
    "### `list`: Filas terrivelmente lentas"
   ]
  },
  {
   "cell_type": "markdown",
   "metadata": {},
   "source": [
    "É possível usar uma lista normal como uma fila, mas isso não é ideal. O desempenho é sofrível. As listas são bastante lentas para essa finalidade, porque inserir ou excluir um elemento no início requer mudar todos os outros elementos, um por um, exigindo o tempo de `O(n)`.\n",
    "\n",
    "Portanto, eu não recomendaria usar uma lista como uma fila improvisada em Python, a menos que você esteja lidando apenas com um pequeno número de elementos."
   ]
  },
  {
   "cell_type": "code",
   "execution_count": 1,
   "metadata": {},
   "outputs": [
    {
     "data": {
      "text/plain": [
       "['eat', 'sleep', 'code']"
      ]
     },
     "execution_count": 1,
     "metadata": {},
     "output_type": "execute_result"
    }
   ],
   "source": [
    "q = []\n",
    "q.append(\"eat\")\n",
    "q.append(\"sleep\")\n",
    "q.append(\"code\")\n",
    "\n",
    "q"
   ]
  },
  {
   "cell_type": "code",
   "execution_count": 2,
   "metadata": {},
   "outputs": [
    {
     "data": {
      "text/plain": [
       "'eat'"
      ]
     },
     "execution_count": 2,
     "metadata": {},
     "output_type": "execute_result"
    }
   ],
   "source": [
    "# Cuidado! Isso é muito lento!\n",
    "q.pop(0)"
   ]
  },
  {
   "cell_type": "code",
   "execution_count": null,
   "metadata": {},
   "outputs": [],
   "source": []
  }
 ],
 "metadata": {
  "interpreter": {
   "hash": "8ae6e8347844ce31cefbfab1c46c85d6003d3a1108122483edd0f60efc9feef7"
  },
  "kernelspec": {
   "display_name": "Python 3.9.7 64-bit (conda)",
   "language": "python",
   "name": "python3"
  },
  "language_info": {
   "name": "python",
   "version": "3.9.7"
  },
  "orig_nbformat": 4
 },
 "nbformat": 4,
 "nbformat_minor": 2
}
