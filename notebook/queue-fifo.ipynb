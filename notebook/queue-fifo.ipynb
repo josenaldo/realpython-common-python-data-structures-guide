{
 "cells": [
  {
   "cell_type": "markdown",
   "metadata": {},
   "source": [
    "# Common Python Data Structures (Guide)\n",
    "\n",
    "[https://realpython.com/python-data-structures/](https://realpython.com/python-data-structures/)"
   ]
  },
  {
   "cell_type": "markdown",
   "metadata": {},
   "source": [
    "Neste tutorial, você aprenderá:\n",
    "\n",
    "- Quais tipos de dados abstratos comuns são integrados à biblioteca padrão do Python\n",
    "- Como os tipos de dados abstratos mais comuns são mapeados para o esquema de nomenclatura do Python\n",
    "- Como colocar tipos de dados abstratos em uso prático em vários algoritmos"
   ]
  },
  {
   "cell_type": "markdown",
   "metadata": {},
   "source": [
    "## Queues(FIFO - First In, First Out) - Filas(Primeiro a Entrar, Primeiro a Sair)\n",
    "\n",
    "[https://realpython.com/python-data-structures/#queues-fifos](https://realpython.com/python-data-structures/#queues-fifos)\n"
   ]
  },
  {
   "cell_type": "code",
   "execution_count": null,
   "metadata": {},
   "outputs": [],
   "source": []
  }
 ],
 "metadata": {
  "language_info": {
   "name": "python"
  },
  "orig_nbformat": 4
 },
 "nbformat": 4,
 "nbformat_minor": 2
}
